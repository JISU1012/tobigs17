{
 "cells": [
  {
   "cell_type": "markdown",
   "metadata": {
    "id": "HtloJibI_5uB"
   },
   "source": [
    "# 과제 1"
   ]
  },
  {
   "cell_type": "markdown",
   "metadata": {
    "id": "poKqKrLb_5uH"
   },
   "source": [
    "## Matrix 구현 \n",
    "1. Linear Regression에서 쓰이는 **정규방정식**을 행렬로 구현하고, sklearn 혹은 OLS 패키지를 통해 구한 **실제 값과 비교**해주세요.\n",
    "2. LSE에서 쓰이는 Loss Function, **MSE**를 행렬로 구현해 출력해주세요."
   ]
  },
  {
   "cell_type": "markdown",
   "metadata": {
    "id": "MaVCkq3g_5uJ"
   },
   "source": [
    "### Data Load "
   ]
  },
  {
   "cell_type": "code",
   "execution_count": 1,
   "metadata": {
    "id": "lX6_aNNU_5uK"
   },
   "outputs": [],
   "source": [
    "import pandas as pd \n",
    "data = pd.read_csv(\"assignment1.csv\")"
   ]
  },
  {
   "cell_type": "code",
   "execution_count": 2,
   "metadata": {
    "id": "PJVRecL-_5uM",
    "outputId": "78c70b21-ad58-4a1f-b5b3-f90a6f55d1c7"
   },
   "outputs": [
    {
     "data": {
      "text/html": [
       "<div>\n",
       "<style scoped>\n",
       "    .dataframe tbody tr th:only-of-type {\n",
       "        vertical-align: middle;\n",
       "    }\n",
       "\n",
       "    .dataframe tbody tr th {\n",
       "        vertical-align: top;\n",
       "    }\n",
       "\n",
       "    .dataframe thead th {\n",
       "        text-align: right;\n",
       "    }\n",
       "</style>\n",
       "<table border=\"1\" class=\"dataframe\">\n",
       "  <thead>\n",
       "    <tr style=\"text-align: right;\">\n",
       "      <th></th>\n",
       "      <th>y</th>\n",
       "      <th>x1</th>\n",
       "      <th>x2</th>\n",
       "      <th>x3</th>\n",
       "      <th>x4</th>\n",
       "      <th>x5</th>\n",
       "    </tr>\n",
       "  </thead>\n",
       "  <tbody>\n",
       "    <tr>\n",
       "      <th>0</th>\n",
       "      <td>10</td>\n",
       "      <td>38.9</td>\n",
       "      <td>64.7</td>\n",
       "      <td>4</td>\n",
       "      <td>868</td>\n",
       "      <td>59.7</td>\n",
       "    </tr>\n",
       "    <tr>\n",
       "      <th>1</th>\n",
       "      <td>13</td>\n",
       "      <td>41.6</td>\n",
       "      <td>45.3</td>\n",
       "      <td>-4</td>\n",
       "      <td>957</td>\n",
       "      <td>61.4</td>\n",
       "    </tr>\n",
       "    <tr>\n",
       "      <th>2</th>\n",
       "      <td>11</td>\n",
       "      <td>39.7</td>\n",
       "      <td>74.1</td>\n",
       "      <td>8</td>\n",
       "      <td>786</td>\n",
       "      <td>61.0</td>\n",
       "    </tr>\n",
       "    <tr>\n",
       "      <th>3</th>\n",
       "      <td>7</td>\n",
       "      <td>37.3</td>\n",
       "      <td>48.0</td>\n",
       "      <td>19</td>\n",
       "      <td>984</td>\n",
       "      <td>67.5</td>\n",
       "    </tr>\n",
       "    <tr>\n",
       "      <th>4</th>\n",
       "      <td>10</td>\n",
       "      <td>39.5</td>\n",
       "      <td>51.9</td>\n",
       "      <td>6</td>\n",
       "      <td>700</td>\n",
       "      <td>57.2</td>\n",
       "    </tr>\n",
       "  </tbody>\n",
       "</table>\n",
       "</div>"
      ],
      "text/plain": [
       "    y    x1    x2  x3   x4    x5\n",
       "0  10  38.9  64.7   4  868  59.7\n",
       "1  13  41.6  45.3  -4  957  61.4\n",
       "2  11  39.7  74.1   8  786  61.0\n",
       "3   7  37.3  48.0  19  984  67.5\n",
       "4  10  39.5  51.9   6  700  57.2"
      ]
     },
     "execution_count": 2,
     "metadata": {},
     "output_type": "execute_result"
    }
   ],
   "source": [
    "data.head()"
   ]
  },
  {
   "cell_type": "code",
   "execution_count": 3,
   "metadata": {
    "id": "Cdf4C5No_5uP",
    "outputId": "28e40fcd-7aed-40be-b449-38b4c9937e5c"
   },
   "outputs": [
    {
     "data": {
      "text/plain": [
       "(9, 6)"
      ]
     },
     "execution_count": 3,
     "metadata": {},
     "output_type": "execute_result"
    }
   ],
   "source": [
    "data.shape     # y:(9,1), X:(9,5)"
   ]
  },
  {
   "cell_type": "code",
   "execution_count": 4,
   "metadata": {
    "id": "rZuPCz_9_5uQ"
   },
   "outputs": [],
   "source": [
    "X = data.drop([\"y\"], axis=1)\n",
    "y = data.y"
   ]
  },
  {
   "cell_type": "code",
   "execution_count": 5,
   "metadata": {
    "id": "sI24Ruws_5uQ"
   },
   "outputs": [],
   "source": [
    "# Matrix 계산을 위해 X와 y를 numpy 형태로 바꾸어줍니다. \n",
    "X = X.to_numpy()\n",
    "y = y.to_numpy()"
   ]
  },
  {
   "cell_type": "code",
   "execution_count": 6,
   "metadata": {
    "id": "oIEx1Gk5_5uR",
    "outputId": "af2ee5f2-5512-404c-91b7-a0afcfdbed01"
   },
   "outputs": [
    {
     "data": {
      "text/plain": [
       "array([[  38.9,   64.7,    4. ,  868. ,   59.7],\n",
       "       [  41.6,   45.3,   -4. ,  957. ,   61.4],\n",
       "       [  39.7,   74.1,    8. ,  786. ,   61. ],\n",
       "       [  37.3,   48. ,   19. ,  984. ,   67.5],\n",
       "       [  39.5,   51.9,    6. ,  700. ,   57.2],\n",
       "       [  37.4,   53.6,   -5. , 1037. ,   58.8],\n",
       "       [  35.1,   71.4,    3. ,  986. ,   58.6],\n",
       "       [  38.8,   58.3,    6. ,  819. ,   59.2],\n",
       "       [  36.6,   52.6,  -19. ,  791. ,   54.4]])"
      ]
     },
     "execution_count": 6,
     "metadata": {},
     "output_type": "execute_result"
    }
   ],
   "source": [
    "X"
   ]
  },
  {
   "cell_type": "code",
   "execution_count": 7,
   "metadata": {
    "id": "8xH58zzD_5uS",
    "outputId": "353a1f50-ddc0-4f27-9c69-ec6b1b2f2046"
   },
   "outputs": [
    {
     "data": {
      "text/plain": [
       "array([10, 13, 11,  7, 10,  9,  9,  6,  5], dtype=int64)"
      ]
     },
     "execution_count": 7,
     "metadata": {},
     "output_type": "execute_result"
    }
   ],
   "source": [
    "y"
   ]
  },
  {
   "cell_type": "markdown",
   "metadata": {
    "id": "F3JfJR95_5uT"
   },
   "source": [
    "### 1. Normal Equation"
   ]
  },
  {
   "cell_type": "code",
   "execution_count": 8,
   "metadata": {
    "id": "Fs3H6XKI_5uX"
   },
   "outputs": [],
   "source": [
    "import numpy as np\n",
    "from numpy.linalg import inv "
   ]
  },
  {
   "attachments": {
    "image.png": {
     "image/png": "[encoded data removed]"
    }
   },
   "cell_type": "markdown",
   "metadata": {},
   "source": [
    "designX\n",
    "![image.png](attachment:image.png)"
   ]
  },
  {
   "cell_type": "code",
   "execution_count": 9,
   "metadata": {
    "scrolled": true
   },
   "outputs": [
    {
     "data": {
      "text/plain": [
       "array([[ 1.000e+00,  3.890e+01,  6.470e+01,  4.000e+00,  8.680e+02,\n",
       "         5.970e+01],\n",
       "       [ 1.000e+00,  4.160e+01,  4.530e+01, -4.000e+00,  9.570e+02,\n",
       "         6.140e+01],\n",
       "       [ 1.000e+00,  3.970e+01,  7.410e+01,  8.000e+00,  7.860e+02,\n",
       "         6.100e+01],\n",
       "       [ 1.000e+00,  3.730e+01,  4.800e+01,  1.900e+01,  9.840e+02,\n",
       "         6.750e+01],\n",
       "       [ 1.000e+00,  3.950e+01,  5.190e+01,  6.000e+00,  7.000e+02,\n",
       "         5.720e+01],\n",
       "       [ 1.000e+00,  3.740e+01,  5.360e+01, -5.000e+00,  1.037e+03,\n",
       "         5.880e+01],\n",
       "       [ 1.000e+00,  3.510e+01,  7.140e+01,  3.000e+00,  9.860e+02,\n",
       "         5.860e+01],\n",
       "       [ 1.000e+00,  3.880e+01,  5.830e+01,  6.000e+00,  8.190e+02,\n",
       "         5.920e+01],\n",
       "       [ 1.000e+00,  3.660e+01,  5.260e+01, -1.900e+01,  7.910e+02,\n",
       "         5.440e+01]])"
      ]
     },
     "execution_count": 9,
     "metadata": {},
     "output_type": "execute_result"
    }
   ],
   "source": [
    "#위의 마크다운처럼 X앞에 각각 1이 추가되도록 함\n",
    "designX = np.concatenate([np.ones((len(y),1)),X], axis=1)\n",
    "designX"
   ]
  },
  {
   "attachments": {
    "image.png": {
     "image/png": "[encoded data removed]"
    }
   },
   "cell_type": "markdown",
   "metadata": {},
   "source": [
    "![image.png](attachment:image.png)\n",
    "\n",
    "- 본 그림에서의 w는 beta hat과 같은 의미이다"
   ]
  },
  {
   "cell_type": "code",
   "execution_count": 10,
   "metadata": {},
   "outputs": [],
   "source": [
    "beta_hat = np.dot(np.dot(inv(np.dot(designX.T, designX)), designX.T), y)"
   ]
  },
  {
   "cell_type": "code",
   "execution_count": 11,
   "metadata": {
    "id": "oEiAbw86_5uX",
    "scrolled": true
   },
   "outputs": [],
   "source": [
    "def estimate_beta(X, y):\n",
    "    designX = np.concatenate([np.ones((len(y),1)),X], axis=1)\n",
    "    \n",
    "    beta_hat = np.dot(np.dot(inv(np.dot(designX.T, designX)), designX.T), y)\n",
    "    \n",
    "    return beta_hat"
   ]
  },
  {
   "cell_type": "code",
   "execution_count": 12,
   "metadata": {
    "id": "MLFE-cvl_5uY",
    "outputId": "ee491c4c-c614-4a2c-986f-0d14e2d3bf0c"
   },
   "outputs": [
    {
     "data": {
      "text/plain": [
       "array([-3.92447368e+01,  1.31232583e+00,  8.53744361e-02,  7.41849897e-02,\n",
       "        1.50018573e-02, -3.42273652e-01])"
      ]
     },
     "execution_count": 12,
     "metadata": {},
     "output_type": "execute_result"
    }
   ],
   "source": [
    "beta_hat = estimate_beta(X, y)\n",
    "beta_hat"
   ]
  },
  {
   "cell_type": "code",
   "execution_count": 13,
   "metadata": {},
   "outputs": [
    {
     "data": {
      "text/plain": [
       "-39.244736781376744"
      ]
     },
     "execution_count": 13,
     "metadata": {},
     "output_type": "execute_result"
    }
   ],
   "source": [
    "beta_hat[0] # intercept"
   ]
  },
  {
   "cell_type": "code",
   "execution_count": 14,
   "metadata": {},
   "outputs": [
    {
     "data": {
      "text/plain": [
       "array([ 1.31232583,  0.08537444,  0.07418499,  0.01500186, -0.34227365])"
      ]
     },
     "execution_count": 14,
     "metadata": {},
     "output_type": "execute_result"
    }
   ],
   "source": [
    "beta_hat[1:6] #추정된 회귀계수"
   ]
  },
  {
   "cell_type": "markdown",
   "metadata": {
    "id": "Kr4KXjl9_5uZ"
   },
   "source": [
    "#### 실제 값과 비교"
   ]
  },
  {
   "cell_type": "code",
   "execution_count": 15,
   "metadata": {
    "id": "Ef3Ggqo8_5uZ"
   },
   "outputs": [],
   "source": [
    "from sklearn.linear_model import LinearRegression"
   ]
  },
  {
   "cell_type": "code",
   "execution_count": 16,
   "metadata": {
    "id": "6Parv6ui_5uZ"
   },
   "outputs": [],
   "source": [
    "model = LinearRegression()\n",
    "model.fit(X, y)\n",
    "\n",
    "pred = model.predict(X)"
   ]
  },
  {
   "cell_type": "code",
   "execution_count": 17,
   "metadata": {
    "id": "B2ANlaBa_5ua",
    "outputId": "66492b5d-4e30-4a93-b778-fc9b7ff58161"
   },
   "outputs": [
    {
     "name": "stdout",
     "output_type": "stream",
     "text": [
      "-39.24473678135659\n",
      "[ 1.31232583  0.08537444  0.07418499  0.01500186 -0.34227365]\n"
     ]
    }
   ],
   "source": [
    "print(model.intercept_)   # intercept\n",
    "print(model.coef_)   # 추정된 회귀계수 (intercept 제외)"
   ]
  },
  {
   "cell_type": "markdown",
   "metadata": {},
   "source": [
    "행렬 계산을 통한 값과 LinearRegression을 통해 얻은 값이 같음을 볼 수 있다."
   ]
  },
  {
   "cell_type": "markdown",
   "metadata": {
    "id": "Csj01bXd_5ua"
   },
   "source": [
    "### 2. MSE"
   ]
  },
  {
   "cell_type": "markdown",
   "metadata": {},
   "source": [
    " $SSE = \\sum_{}{}(y_i-\\hat{y_i})^2$  <br>\n",
    " $MSE = \\cfrac{SSE}{n-p-1}$ "
   ]
  },
  {
   "cell_type": "code",
   "execution_count": 18,
   "metadata": {},
   "outputs": [
    {
     "data": {
      "text/plain": [
       "5"
      ]
     },
     "execution_count": 18,
     "metadata": {},
     "output_type": "execute_result"
    }
   ],
   "source": [
    "#변수 개수 \n",
    "p = len(X.T)\n",
    "p"
   ]
  },
  {
   "cell_type": "code",
   "execution_count": 19,
   "metadata": {
    "id": "ADYxjyQ9_5ub"
   },
   "outputs": [],
   "source": [
    "def MSE(X, y, beta_hat):\n",
    "    #위에서와 같은 designX를 사용한다.\n",
    "    designX = np.concatenate([np.ones((len(y),1)),X], axis=1) \n",
    "    # y = X*(beta hat)\n",
    "    y_pred = np.dot(designX,beta_hat)\n",
    "    sse = np.sum((y-y_pred)**2)\n",
    "    mse = sse / (len(y)-p-1)\n",
    "    \n",
    "    return mse"
   ]
  },
  {
   "cell_type": "code",
   "execution_count": 20,
   "metadata": {
    "id": "Q4OB-8Oa_5ub",
    "outputId": "d7baf8ce-860a-41ca-93a3-f669853c733b"
   },
   "outputs": [
    {
     "data": {
      "text/plain": [
       "4.846793168705758"
      ]
     },
     "execution_count": 20,
     "metadata": {},
     "output_type": "execute_result"
    }
   ],
   "source": [
    "MSE(X, y, estimate_beta(X, y))"
   ]
  }
 ],
 "metadata": {
  "colab": {
   "name": "Regression_과제1",
   "provenance": []
  },
  "kernelspec": {
   "display_name": "Python 3",
   "language": "python",
   "name": "python3"
  },
  "language_info": {
   "codemirror_mode": {
    "name": "ipython",
    "version": 3
   },
   "file_extension": ".py",
   "mimetype": "text/x-python",
   "name": "python",
   "nbconvert_exporter": "python",
   "pygments_lexer": "ipython3",
   "version": "3.8.5"
  }
 },
 "nbformat": 4,
 "nbformat_minor": 1
}
