{
 "cells": [
  {
   "cell_type": "markdown",
   "metadata": {
    "id": "oYVqHpHghxi1"
   },
   "source": [
    "# [과제 2] 회귀분석\n",
    "### - Ch 1, Ch 2를 토대로 자유롭게 회귀분석과 회귀진단을 진행해주세요.\n",
    "### - 주석으로 설명 및 근거 자세하게 달아주시면 감사하겠습니다. :)"
   ]
  },
  {
   "cell_type": "code",
   "execution_count": 1,
   "metadata": {
    "id": "F0T3iPmPhxi_"
   },
   "outputs": [],
   "source": [
    "%matplotlib inline \n",
    "\n",
    "import pandas as pd\n",
    "import numpy as np\n",
    "import matplotlib.pyplot as plt\n",
    "import seaborn as sns\n",
    "\n",
    "import warnings\n",
    "warnings.filterwarnings(action='ignore')"
   ]
  },
  {
   "cell_type": "markdown",
   "metadata": {
    "id": "P0uNO4d5hxjA"
   },
   "source": [
    "# Data "
   ]
  },
  {
   "cell_type": "markdown",
   "metadata": {
    "id": "3-xhqe55hxjB"
   },
   "source": [
    "데이터 출처 : https://www.kaggle.com/avikasliwal/used-cars-price-prediction "
   ]
  },
  {
   "cell_type": "markdown",
   "metadata": {
    "id": "NL9G4b7-hxjB"
   },
   "source": [
    "< y > \n",
    "* **Price** : The price of the used car in INR Lakhs.\n",
    "\n",
    "\n",
    "\n",
    "< X > \n",
    "* Name : The brand and model of the car\n",
    "* Location : The location in which the car is being sold or is available for purchase.\n",
    "* Year : The year or edition of the model.\n",
    "* Kilometers_Driven : The total kilometres driven in the car by the previous owner(s) in KM.\n",
    "* Fuel_Type : The type of fuel used by the car. (Petrol, Diesel, Electric, CNG, LPG)\n",
    "* Transmission : The type of transmission used by the car. (Automatic / Manual)\n",
    "* Owner_Type : Whether the ownership is Firsthand, Second hand or other.\n",
    "* Mileage : The standard mileage offered by the car company in kmpl or km/kg\n",
    "* Engine : The displacement volume of the engine in CC.\n",
    "* Power : The maximum power of the engine in bhp.\n",
    "* Seats : The number of seats in the car.\n",
    "* New_Price : The price of a new car of the same model."
   ]
  },
  {
   "cell_type": "code",
   "execution_count": 2,
   "metadata": {
    "colab": {
     "base_uri": "https://localhost:8080/",
     "height": 407
    },
    "id": "4erq13F3hxjC",
    "outputId": "9d870503-1f14-40ab-fb6c-510abcdf231d",
    "scrolled": true
   },
   "outputs": [
    {
     "data": {
      "text/html": [
       "<div>\n",
       "<style scoped>\n",
       "    .dataframe tbody tr th:only-of-type {\n",
       "        vertical-align: middle;\n",
       "    }\n",
       "\n",
       "    .dataframe tbody tr th {\n",
       "        vertical-align: top;\n",
       "    }\n",
       "\n",
       "    .dataframe thead th {\n",
       "        text-align: right;\n",
       "    }\n",
       "</style>\n",
       "<table border=\"1\" class=\"dataframe\">\n",
       "  <thead>\n",
       "    <tr style=\"text-align: right;\">\n",
       "      <th></th>\n",
       "      <th>Unnamed: 0</th>\n",
       "      <th>Name</th>\n",
       "      <th>Location</th>\n",
       "      <th>Year</th>\n",
       "      <th>Kilometers_Driven</th>\n",
       "      <th>Fuel_Type</th>\n",
       "      <th>Transmission</th>\n",
       "      <th>Owner_Type</th>\n",
       "      <th>Mileage</th>\n",
       "      <th>Engine</th>\n",
       "      <th>Power</th>\n",
       "      <th>Seats</th>\n",
       "      <th>New_Price</th>\n",
       "      <th>Price</th>\n",
       "    </tr>\n",
       "  </thead>\n",
       "  <tbody>\n",
       "    <tr>\n",
       "      <th>0</th>\n",
       "      <td>0</td>\n",
       "      <td>Maruti Wagon R LXI CNG</td>\n",
       "      <td>Mumbai</td>\n",
       "      <td>2010</td>\n",
       "      <td>72000</td>\n",
       "      <td>CNG</td>\n",
       "      <td>Manual</td>\n",
       "      <td>First</td>\n",
       "      <td>26.6 km/kg</td>\n",
       "      <td>998 CC</td>\n",
       "      <td>58.16 bhp</td>\n",
       "      <td>5.0</td>\n",
       "      <td>NaN</td>\n",
       "      <td>1.75</td>\n",
       "    </tr>\n",
       "    <tr>\n",
       "      <th>1</th>\n",
       "      <td>1</td>\n",
       "      <td>Hyundai Creta 1.6 CRDi SX Option</td>\n",
       "      <td>Pune</td>\n",
       "      <td>2015</td>\n",
       "      <td>41000</td>\n",
       "      <td>Diesel</td>\n",
       "      <td>Manual</td>\n",
       "      <td>First</td>\n",
       "      <td>19.67 kmpl</td>\n",
       "      <td>1582 CC</td>\n",
       "      <td>126.2 bhp</td>\n",
       "      <td>5.0</td>\n",
       "      <td>NaN</td>\n",
       "      <td>12.50</td>\n",
       "    </tr>\n",
       "    <tr>\n",
       "      <th>2</th>\n",
       "      <td>2</td>\n",
       "      <td>Honda Jazz V</td>\n",
       "      <td>Chennai</td>\n",
       "      <td>2011</td>\n",
       "      <td>46000</td>\n",
       "      <td>Petrol</td>\n",
       "      <td>Manual</td>\n",
       "      <td>First</td>\n",
       "      <td>18.2 kmpl</td>\n",
       "      <td>1199 CC</td>\n",
       "      <td>88.7 bhp</td>\n",
       "      <td>5.0</td>\n",
       "      <td>8.61 Lakh</td>\n",
       "      <td>4.50</td>\n",
       "    </tr>\n",
       "    <tr>\n",
       "      <th>3</th>\n",
       "      <td>3</td>\n",
       "      <td>Maruti Ertiga VDI</td>\n",
       "      <td>Chennai</td>\n",
       "      <td>2012</td>\n",
       "      <td>87000</td>\n",
       "      <td>Diesel</td>\n",
       "      <td>Manual</td>\n",
       "      <td>First</td>\n",
       "      <td>20.77 kmpl</td>\n",
       "      <td>1248 CC</td>\n",
       "      <td>88.76 bhp</td>\n",
       "      <td>7.0</td>\n",
       "      <td>NaN</td>\n",
       "      <td>6.00</td>\n",
       "    </tr>\n",
       "    <tr>\n",
       "      <th>4</th>\n",
       "      <td>4</td>\n",
       "      <td>Audi A4 New 2.0 TDI Multitronic</td>\n",
       "      <td>Coimbatore</td>\n",
       "      <td>2013</td>\n",
       "      <td>40670</td>\n",
       "      <td>Diesel</td>\n",
       "      <td>Automatic</td>\n",
       "      <td>Second</td>\n",
       "      <td>15.2 kmpl</td>\n",
       "      <td>1968 CC</td>\n",
       "      <td>140.8 bhp</td>\n",
       "      <td>5.0</td>\n",
       "      <td>NaN</td>\n",
       "      <td>17.74</td>\n",
       "    </tr>\n",
       "  </tbody>\n",
       "</table>\n",
       "</div>"
      ],
      "text/plain": [
       "   Unnamed: 0                              Name    Location  Year  \\\n",
       "0           0            Maruti Wagon R LXI CNG      Mumbai  2010   \n",
       "1           1  Hyundai Creta 1.6 CRDi SX Option        Pune  2015   \n",
       "2           2                      Honda Jazz V     Chennai  2011   \n",
       "3           3                 Maruti Ertiga VDI     Chennai  2012   \n",
       "4           4   Audi A4 New 2.0 TDI Multitronic  Coimbatore  2013   \n",
       "\n",
       "   Kilometers_Driven Fuel_Type Transmission Owner_Type     Mileage   Engine  \\\n",
       "0              72000       CNG       Manual      First  26.6 km/kg   998 CC   \n",
       "1              41000    Diesel       Manual      First  19.67 kmpl  1582 CC   \n",
       "2              46000    Petrol       Manual      First   18.2 kmpl  1199 CC   \n",
       "3              87000    Diesel       Manual      First  20.77 kmpl  1248 CC   \n",
       "4              40670    Diesel    Automatic     Second   15.2 kmpl  1968 CC   \n",
       "\n",
       "       Power  Seats  New_Price  Price  \n",
       "0  58.16 bhp    5.0        NaN   1.75  \n",
       "1  126.2 bhp    5.0        NaN  12.50  \n",
       "2   88.7 bhp    5.0  8.61 Lakh   4.50  \n",
       "3  88.76 bhp    7.0        NaN   6.00  \n",
       "4  140.8 bhp    5.0        NaN  17.74  "
      ]
     },
     "execution_count": 2,
     "metadata": {},
     "output_type": "execute_result"
    }
   ],
   "source": [
    "# Load Data \n",
    "data = pd.read_csv(\"assignment2_data.csv\")\n",
    "data.head()"
   ]
  },
  {
   "cell_type": "code",
   "execution_count": 3,
   "metadata": {
    "id": "d-J1QpWR_WYh"
   },
   "outputs": [
    {
     "data": {
      "text/html": [
       "<div>\n",
       "<style scoped>\n",
       "    .dataframe tbody tr th:only-of-type {\n",
       "        vertical-align: middle;\n",
       "    }\n",
       "\n",
       "    .dataframe tbody tr th {\n",
       "        vertical-align: top;\n",
       "    }\n",
       "\n",
       "    .dataframe thead th {\n",
       "        text-align: right;\n",
       "    }\n",
       "</style>\n",
       "<table border=\"1\" class=\"dataframe\">\n",
       "  <thead>\n",
       "    <tr style=\"text-align: right;\">\n",
       "      <th></th>\n",
       "      <th>Name</th>\n",
       "      <th>Location</th>\n",
       "      <th>Year</th>\n",
       "      <th>Kilometers_Driven</th>\n",
       "      <th>Fuel_Type</th>\n",
       "      <th>Transmission</th>\n",
       "      <th>Owner_Type</th>\n",
       "      <th>Mileage</th>\n",
       "      <th>Engine</th>\n",
       "      <th>Power</th>\n",
       "      <th>Seats</th>\n",
       "      <th>New_Price</th>\n",
       "      <th>Price</th>\n",
       "    </tr>\n",
       "  </thead>\n",
       "  <tbody>\n",
       "    <tr>\n",
       "      <th>0</th>\n",
       "      <td>Maruti Wagon R LXI CNG</td>\n",
       "      <td>Mumbai</td>\n",
       "      <td>2010</td>\n",
       "      <td>72000</td>\n",
       "      <td>CNG</td>\n",
       "      <td>Manual</td>\n",
       "      <td>First</td>\n",
       "      <td>26.6 km/kg</td>\n",
       "      <td>998 CC</td>\n",
       "      <td>58.16 bhp</td>\n",
       "      <td>5.0</td>\n",
       "      <td>NaN</td>\n",
       "      <td>1.75</td>\n",
       "    </tr>\n",
       "    <tr>\n",
       "      <th>1</th>\n",
       "      <td>Hyundai Creta 1.6 CRDi SX Option</td>\n",
       "      <td>Pune</td>\n",
       "      <td>2015</td>\n",
       "      <td>41000</td>\n",
       "      <td>Diesel</td>\n",
       "      <td>Manual</td>\n",
       "      <td>First</td>\n",
       "      <td>19.67 kmpl</td>\n",
       "      <td>1582 CC</td>\n",
       "      <td>126.2 bhp</td>\n",
       "      <td>5.0</td>\n",
       "      <td>NaN</td>\n",
       "      <td>12.50</td>\n",
       "    </tr>\n",
       "    <tr>\n",
       "      <th>2</th>\n",
       "      <td>Honda Jazz V</td>\n",
       "      <td>Chennai</td>\n",
       "      <td>2011</td>\n",
       "      <td>46000</td>\n",
       "      <td>Petrol</td>\n",
       "      <td>Manual</td>\n",
       "      <td>First</td>\n",
       "      <td>18.2 kmpl</td>\n",
       "      <td>1199 CC</td>\n",
       "      <td>88.7 bhp</td>\n",
       "      <td>5.0</td>\n",
       "      <td>8.61 Lakh</td>\n",
       "      <td>4.50</td>\n",
       "    </tr>\n",
       "    <tr>\n",
       "      <th>3</th>\n",
       "      <td>Maruti Ertiga VDI</td>\n",
       "      <td>Chennai</td>\n",
       "      <td>2012</td>\n",
       "      <td>87000</td>\n",
       "      <td>Diesel</td>\n",
       "      <td>Manual</td>\n",
       "      <td>First</td>\n",
       "      <td>20.77 kmpl</td>\n",
       "      <td>1248 CC</td>\n",
       "      <td>88.76 bhp</td>\n",
       "      <td>7.0</td>\n",
       "      <td>NaN</td>\n",
       "      <td>6.00</td>\n",
       "    </tr>\n",
       "    <tr>\n",
       "      <th>4</th>\n",
       "      <td>Audi A4 New 2.0 TDI Multitronic</td>\n",
       "      <td>Coimbatore</td>\n",
       "      <td>2013</td>\n",
       "      <td>40670</td>\n",
       "      <td>Diesel</td>\n",
       "      <td>Automatic</td>\n",
       "      <td>Second</td>\n",
       "      <td>15.2 kmpl</td>\n",
       "      <td>1968 CC</td>\n",
       "      <td>140.8 bhp</td>\n",
       "      <td>5.0</td>\n",
       "      <td>NaN</td>\n",
       "      <td>17.74</td>\n",
       "    </tr>\n",
       "  </tbody>\n",
       "</table>\n",
       "</div>"
      ],
      "text/plain": [
       "                               Name    Location  Year  Kilometers_Driven  \\\n",
       "0            Maruti Wagon R LXI CNG      Mumbai  2010              72000   \n",
       "1  Hyundai Creta 1.6 CRDi SX Option        Pune  2015              41000   \n",
       "2                      Honda Jazz V     Chennai  2011              46000   \n",
       "3                 Maruti Ertiga VDI     Chennai  2012              87000   \n",
       "4   Audi A4 New 2.0 TDI Multitronic  Coimbatore  2013              40670   \n",
       "\n",
       "  Fuel_Type Transmission Owner_Type     Mileage   Engine      Power  Seats  \\\n",
       "0       CNG       Manual      First  26.6 km/kg   998 CC  58.16 bhp    5.0   \n",
       "1    Diesel       Manual      First  19.67 kmpl  1582 CC  126.2 bhp    5.0   \n",
       "2    Petrol       Manual      First   18.2 kmpl  1199 CC   88.7 bhp    5.0   \n",
       "3    Diesel       Manual      First  20.77 kmpl  1248 CC  88.76 bhp    7.0   \n",
       "4    Diesel    Automatic     Second   15.2 kmpl  1968 CC  140.8 bhp    5.0   \n",
       "\n",
       "   New_Price  Price  \n",
       "0        NaN   1.75  \n",
       "1        NaN  12.50  \n",
       "2  8.61 Lakh   4.50  \n",
       "3        NaN   6.00  \n",
       "4        NaN  17.74  "
      ]
     },
     "execution_count": 3,
     "metadata": {},
     "output_type": "execute_result"
    }
   ],
   "source": [
    "# 데이터셋의 Unnamed:0 열 삭제\n",
    "data.drop('Unnamed: 0',inplace=True,axis=1)\n",
    "data.head()"
   ]
  },
  {
   "cell_type": "code",
   "execution_count": 4,
   "metadata": {},
   "outputs": [
    {
     "name": "stdout",
     "output_type": "stream",
     "text": [
      "<class 'pandas.core.frame.DataFrame'>\n",
      "RangeIndex: 6019 entries, 0 to 6018\n",
      "Data columns (total 13 columns):\n",
      " #   Column             Non-Null Count  Dtype  \n",
      "---  ------             --------------  -----  \n",
      " 0   Name               6019 non-null   object \n",
      " 1   Location           6019 non-null   object \n",
      " 2   Year               6019 non-null   int64  \n",
      " 3   Kilometers_Driven  6019 non-null   int64  \n",
      " 4   Fuel_Type          6019 non-null   object \n",
      " 5   Transmission       6019 non-null   object \n",
      " 6   Owner_Type         6019 non-null   object \n",
      " 7   Mileage            6017 non-null   object \n",
      " 8   Engine             5983 non-null   object \n",
      " 9   Power              5983 non-null   object \n",
      " 10  Seats              5977 non-null   float64\n",
      " 11  New_Price          824 non-null    object \n",
      " 12  Price              6019 non-null   float64\n",
      "dtypes: float64(2), int64(2), object(9)\n",
      "memory usage: 611.4+ KB\n"
     ]
    }
   ],
   "source": [
    "# EDA\n",
    "\n",
    "data.info()"
   ]
  },
  {
   "cell_type": "code",
   "execution_count": 5,
   "metadata": {},
   "outputs": [
    {
     "data": {
      "text/plain": [
       "Name                    0\n",
       "Location                0\n",
       "Year                    0\n",
       "Kilometers_Driven       0\n",
       "Fuel_Type               0\n",
       "Transmission            0\n",
       "Owner_Type              0\n",
       "Mileage                 2\n",
       "Engine                 36\n",
       "Power                  36\n",
       "Seats                  42\n",
       "New_Price            5195\n",
       "Price                   0\n",
       "dtype: int64"
      ]
     },
     "execution_count": 5,
     "metadata": {},
     "output_type": "execute_result"
    }
   ],
   "source": [
    "data.isnull().sum()"
   ]
  },
  {
   "cell_type": "code",
   "execution_count": 6,
   "metadata": {},
   "outputs": [],
   "source": [
    "# 결측치 수가 비교적 적은 Mileage, Engine, Power, Seats는 결측치를 평균값으로 대체하는 것이 좋을 것 같음\n",
    "# 결측치수가 많은 New_Price는 결측치를 제거"
   ]
  },
  {
   "cell_type": "code",
   "execution_count": 7,
   "metadata": {},
   "outputs": [
    {
     "data": {
      "text/plain": [
       "Name                 0\n",
       "Location             0\n",
       "Year                 0\n",
       "Kilometers_Driven    0\n",
       "Fuel_Type            0\n",
       "Transmission         0\n",
       "Owner_Type           0\n",
       "Mileage              1\n",
       "Engine               0\n",
       "Power                0\n",
       "Seats                0\n",
       "New_Price            0\n",
       "Price                0\n",
       "dtype: int64"
      ]
     },
     "execution_count": 7,
     "metadata": {},
     "output_type": "execute_result"
    }
   ],
   "source": [
    "data = data.dropna(subset=['New_Price'])\n",
    "data.isnull().sum()"
   ]
  },
  {
   "cell_type": "code",
   "execution_count": 8,
   "metadata": {},
   "outputs": [],
   "source": [
    "#New_Price 결측치 제거 후 Mileage의 결측치 1개만 남으므로 이것 또한 제거"
   ]
  },
  {
   "cell_type": "code",
   "execution_count": 9,
   "metadata": {},
   "outputs": [
    {
     "data": {
      "text/plain": [
       "Name                 0\n",
       "Location             0\n",
       "Year                 0\n",
       "Kilometers_Driven    0\n",
       "Fuel_Type            0\n",
       "Transmission         0\n",
       "Owner_Type           0\n",
       "Mileage              0\n",
       "Engine               0\n",
       "Power                0\n",
       "Seats                0\n",
       "New_Price            0\n",
       "Price                0\n",
       "dtype: int64"
      ]
     },
     "execution_count": 9,
     "metadata": {},
     "output_type": "execute_result"
    }
   ],
   "source": [
    "data = data.dropna(subset=['Mileage'])\n",
    "data.isnull().sum()"
   ]
  },
  {
   "cell_type": "code",
   "execution_count": 10,
   "metadata": {},
   "outputs": [
    {
     "data": {
      "text/html": [
       "<div>\n",
       "<style scoped>\n",
       "    .dataframe tbody tr th:only-of-type {\n",
       "        vertical-align: middle;\n",
       "    }\n",
       "\n",
       "    .dataframe tbody tr th {\n",
       "        vertical-align: top;\n",
       "    }\n",
       "\n",
       "    .dataframe thead th {\n",
       "        text-align: right;\n",
       "    }\n",
       "</style>\n",
       "<table border=\"1\" class=\"dataframe\">\n",
       "  <thead>\n",
       "    <tr style=\"text-align: right;\">\n",
       "      <th></th>\n",
       "      <th>Name</th>\n",
       "      <th>Location</th>\n",
       "      <th>Year</th>\n",
       "      <th>Kilometers_Driven</th>\n",
       "      <th>Fuel_Type</th>\n",
       "      <th>Transmission</th>\n",
       "      <th>Owner_Type</th>\n",
       "      <th>Mileage</th>\n",
       "      <th>Engine</th>\n",
       "      <th>Power</th>\n",
       "      <th>Seats</th>\n",
       "      <th>New_Price</th>\n",
       "      <th>Price</th>\n",
       "    </tr>\n",
       "  </thead>\n",
       "  <tbody>\n",
       "    <tr>\n",
       "      <th>2</th>\n",
       "      <td>Honda Jazz V</td>\n",
       "      <td>Chennai</td>\n",
       "      <td>2011</td>\n",
       "      <td>46000</td>\n",
       "      <td>Petrol</td>\n",
       "      <td>Manual</td>\n",
       "      <td>First</td>\n",
       "      <td>18.2 kmpl</td>\n",
       "      <td>1199 CC</td>\n",
       "      <td>88.7 bhp</td>\n",
       "      <td>5.0</td>\n",
       "      <td>8.61 Lakh</td>\n",
       "      <td>4.50</td>\n",
       "    </tr>\n",
       "    <tr>\n",
       "      <th>7</th>\n",
       "      <td>Toyota Innova Crysta 2.8 GX AT 8S</td>\n",
       "      <td>Mumbai</td>\n",
       "      <td>2016</td>\n",
       "      <td>36000</td>\n",
       "      <td>Diesel</td>\n",
       "      <td>Automatic</td>\n",
       "      <td>First</td>\n",
       "      <td>11.36 kmpl</td>\n",
       "      <td>2755 CC</td>\n",
       "      <td>171.5 bhp</td>\n",
       "      <td>8.0</td>\n",
       "      <td>21 Lakh</td>\n",
       "      <td>17.50</td>\n",
       "    </tr>\n",
       "    <tr>\n",
       "      <th>10</th>\n",
       "      <td>Maruti Ciaz Zeta</td>\n",
       "      <td>Kochi</td>\n",
       "      <td>2018</td>\n",
       "      <td>25692</td>\n",
       "      <td>Petrol</td>\n",
       "      <td>Manual</td>\n",
       "      <td>First</td>\n",
       "      <td>21.56 kmpl</td>\n",
       "      <td>1462 CC</td>\n",
       "      <td>103.25 bhp</td>\n",
       "      <td>5.0</td>\n",
       "      <td>10.65 Lakh</td>\n",
       "      <td>9.95</td>\n",
       "    </tr>\n",
       "    <tr>\n",
       "      <th>15</th>\n",
       "      <td>Mitsubishi Pajero Sport 4X4</td>\n",
       "      <td>Delhi</td>\n",
       "      <td>2014</td>\n",
       "      <td>110000</td>\n",
       "      <td>Diesel</td>\n",
       "      <td>Manual</td>\n",
       "      <td>First</td>\n",
       "      <td>13.5 kmpl</td>\n",
       "      <td>2477 CC</td>\n",
       "      <td>175.56 bhp</td>\n",
       "      <td>7.0</td>\n",
       "      <td>32.01 Lakh</td>\n",
       "      <td>15.00</td>\n",
       "    </tr>\n",
       "    <tr>\n",
       "      <th>20</th>\n",
       "      <td>BMW 3 Series 320d</td>\n",
       "      <td>Kochi</td>\n",
       "      <td>2014</td>\n",
       "      <td>32982</td>\n",
       "      <td>Diesel</td>\n",
       "      <td>Automatic</td>\n",
       "      <td>First</td>\n",
       "      <td>22.69 kmpl</td>\n",
       "      <td>1995 CC</td>\n",
       "      <td>190 bhp</td>\n",
       "      <td>5.0</td>\n",
       "      <td>47.87 Lakh</td>\n",
       "      <td>18.55</td>\n",
       "    </tr>\n",
       "    <tr>\n",
       "      <th>28</th>\n",
       "      <td>Honda WRV i-VTEC VX</td>\n",
       "      <td>Kochi</td>\n",
       "      <td>2018</td>\n",
       "      <td>37430</td>\n",
       "      <td>Petrol</td>\n",
       "      <td>Manual</td>\n",
       "      <td>First</td>\n",
       "      <td>17.5 kmpl</td>\n",
       "      <td>1199 CC</td>\n",
       "      <td>88.7 bhp</td>\n",
       "      <td>5.0</td>\n",
       "      <td>10.57 Lakh</td>\n",
       "      <td>9.90</td>\n",
       "    </tr>\n",
       "    <tr>\n",
       "      <th>34</th>\n",
       "      <td>Volkswagen Vento 1.6 Highline</td>\n",
       "      <td>Coimbatore</td>\n",
       "      <td>2014</td>\n",
       "      <td>55431</td>\n",
       "      <td>Petrol</td>\n",
       "      <td>Manual</td>\n",
       "      <td>Second</td>\n",
       "      <td>16.09 kmpl</td>\n",
       "      <td>1598 CC</td>\n",
       "      <td>103.5 bhp</td>\n",
       "      <td>5.0</td>\n",
       "      <td>12.33 Lakh</td>\n",
       "      <td>6.98</td>\n",
       "    </tr>\n",
       "    <tr>\n",
       "      <th>36</th>\n",
       "      <td>Maruti Vitara Brezza ZDi Plus</td>\n",
       "      <td>Kochi</td>\n",
       "      <td>2018</td>\n",
       "      <td>50075</td>\n",
       "      <td>Diesel</td>\n",
       "      <td>Manual</td>\n",
       "      <td>First</td>\n",
       "      <td>24.3 kmpl</td>\n",
       "      <td>1248 CC</td>\n",
       "      <td>88.5 bhp</td>\n",
       "      <td>5.0</td>\n",
       "      <td>11.12 Lakh</td>\n",
       "      <td>8.63</td>\n",
       "    </tr>\n",
       "    <tr>\n",
       "      <th>44</th>\n",
       "      <td>Hyundai Elantra 2.0 SX Option AT</td>\n",
       "      <td>Bangalore</td>\n",
       "      <td>2014</td>\n",
       "      <td>46374</td>\n",
       "      <td>Petrol</td>\n",
       "      <td>Automatic</td>\n",
       "      <td>First</td>\n",
       "      <td>14.62 kmpl</td>\n",
       "      <td>1999 CC</td>\n",
       "      <td>149.92 bhp</td>\n",
       "      <td>5.0</td>\n",
       "      <td>23.64 Lakh</td>\n",
       "      <td>8.85</td>\n",
       "    </tr>\n",
       "    <tr>\n",
       "      <th>47</th>\n",
       "      <td>Toyota Innova Crysta 2.7 GX MT</td>\n",
       "      <td>Bangalore</td>\n",
       "      <td>2012</td>\n",
       "      <td>70704</td>\n",
       "      <td>Petrol</td>\n",
       "      <td>Manual</td>\n",
       "      <td>First</td>\n",
       "      <td>11.25 kmpl</td>\n",
       "      <td>2694 CC</td>\n",
       "      <td>163.7 bhp</td>\n",
       "      <td>7.0</td>\n",
       "      <td>18.64 Lakh</td>\n",
       "      <td>10.95</td>\n",
       "    </tr>\n",
       "    <tr>\n",
       "      <th>60</th>\n",
       "      <td>Toyota Innova Crysta 2.4 GX MT 8S</td>\n",
       "      <td>Mumbai</td>\n",
       "      <td>2017</td>\n",
       "      <td>22000</td>\n",
       "      <td>Diesel</td>\n",
       "      <td>Manual</td>\n",
       "      <td>First</td>\n",
       "      <td>13.68 kmpl</td>\n",
       "      <td>2393 CC</td>\n",
       "      <td>147.8 bhp</td>\n",
       "      <td>8.0</td>\n",
       "      <td>19.34 Lakh</td>\n",
       "      <td>16.50</td>\n",
       "    </tr>\n",
       "    <tr>\n",
       "      <th>67</th>\n",
       "      <td>Mercedes-Benz C-Class Progressive C 220d</td>\n",
       "      <td>Coimbatore</td>\n",
       "      <td>2019</td>\n",
       "      <td>15369</td>\n",
       "      <td>Diesel</td>\n",
       "      <td>Automatic</td>\n",
       "      <td>First</td>\n",
       "      <td>0.0 kmpl</td>\n",
       "      <td>1950 CC</td>\n",
       "      <td>194 bhp</td>\n",
       "      <td>5.0</td>\n",
       "      <td>49.14 Lakh</td>\n",
       "      <td>35.67</td>\n",
       "    </tr>\n",
       "    <tr>\n",
       "      <th>69</th>\n",
       "      <td>Hyundai Creta 1.4 E Plus Diesel</td>\n",
       "      <td>Mumbai</td>\n",
       "      <td>2018</td>\n",
       "      <td>13000</td>\n",
       "      <td>Diesel</td>\n",
       "      <td>Manual</td>\n",
       "      <td>First</td>\n",
       "      <td>22.1 kmpl</td>\n",
       "      <td>1396 CC</td>\n",
       "      <td>88.7 bhp</td>\n",
       "      <td>5.0</td>\n",
       "      <td>11.81 Lakh</td>\n",
       "      <td>10.50</td>\n",
       "    </tr>\n",
       "    <tr>\n",
       "      <th>73</th>\n",
       "      <td>Nissan Terrano XV D Pre</td>\n",
       "      <td>Kochi</td>\n",
       "      <td>2015</td>\n",
       "      <td>56066</td>\n",
       "      <td>Diesel</td>\n",
       "      <td>Manual</td>\n",
       "      <td>First</td>\n",
       "      <td>19.64 kmpl</td>\n",
       "      <td>1461 CC</td>\n",
       "      <td>108.5 bhp</td>\n",
       "      <td>5.0</td>\n",
       "      <td>16.65 Lakh</td>\n",
       "      <td>6.92</td>\n",
       "    </tr>\n",
       "    <tr>\n",
       "      <th>81</th>\n",
       "      <td>Tata Zest Revotron 1.2T XE</td>\n",
       "      <td>Pune</td>\n",
       "      <td>2017</td>\n",
       "      <td>70000</td>\n",
       "      <td>Petrol</td>\n",
       "      <td>Manual</td>\n",
       "      <td>First</td>\n",
       "      <td>17.57 kmpl</td>\n",
       "      <td>1193 CC</td>\n",
       "      <td>88.7 bhp</td>\n",
       "      <td>5.0</td>\n",
       "      <td>6.67 Lakh</td>\n",
       "      <td>4.50</td>\n",
       "    </tr>\n",
       "    <tr>\n",
       "      <th>102</th>\n",
       "      <td>Datsun GO Plus T Petrol</td>\n",
       "      <td>Pune</td>\n",
       "      <td>2017</td>\n",
       "      <td>32851</td>\n",
       "      <td>Petrol</td>\n",
       "      <td>Manual</td>\n",
       "      <td>First</td>\n",
       "      <td>19.83 kmpl</td>\n",
       "      <td>1198 CC</td>\n",
       "      <td>67 bhp</td>\n",
       "      <td>7.0</td>\n",
       "      <td>6.45 Lakh</td>\n",
       "      <td>3.95</td>\n",
       "    </tr>\n",
       "    <tr>\n",
       "      <th>106</th>\n",
       "      <td>Toyota Etios Liva 1.2 G</td>\n",
       "      <td>Ahmedabad</td>\n",
       "      <td>2014</td>\n",
       "      <td>53000</td>\n",
       "      <td>Petrol</td>\n",
       "      <td>Manual</td>\n",
       "      <td>First</td>\n",
       "      <td>17.71 kmpl</td>\n",
       "      <td>1197 CC</td>\n",
       "      <td>78.9 bhp</td>\n",
       "      <td>5.0</td>\n",
       "      <td>6.41 Lakh</td>\n",
       "      <td>3.90</td>\n",
       "    </tr>\n",
       "    <tr>\n",
       "      <th>110</th>\n",
       "      <td>Toyota Innova Crysta 2.8 ZX AT</td>\n",
       "      <td>Mumbai</td>\n",
       "      <td>2017</td>\n",
       "      <td>30000</td>\n",
       "      <td>Diesel</td>\n",
       "      <td>Automatic</td>\n",
       "      <td>First</td>\n",
       "      <td>11.36 kmpl</td>\n",
       "      <td>2755 CC</td>\n",
       "      <td>171.5 bhp</td>\n",
       "      <td>7.0</td>\n",
       "      <td>27 Lakh</td>\n",
       "      <td>19.25</td>\n",
       "    </tr>\n",
       "    <tr>\n",
       "      <th>111</th>\n",
       "      <td>Maruti Eeco 5 Seater AC</td>\n",
       "      <td>Coimbatore</td>\n",
       "      <td>2017</td>\n",
       "      <td>38053</td>\n",
       "      <td>Petrol</td>\n",
       "      <td>Manual</td>\n",
       "      <td>First</td>\n",
       "      <td>15.1 kmpl</td>\n",
       "      <td>1196 CC</td>\n",
       "      <td>73 bhp</td>\n",
       "      <td>5.0</td>\n",
       "      <td>5.13 Lakh</td>\n",
       "      <td>3.91</td>\n",
       "    </tr>\n",
       "    <tr>\n",
       "      <th>113</th>\n",
       "      <td>BMW 3 Series 320d Luxury Line</td>\n",
       "      <td>Mumbai</td>\n",
       "      <td>2015</td>\n",
       "      <td>56087</td>\n",
       "      <td>Diesel</td>\n",
       "      <td>Automatic</td>\n",
       "      <td>First</td>\n",
       "      <td>22.69 kmpl</td>\n",
       "      <td>1995 CC</td>\n",
       "      <td>190 bhp</td>\n",
       "      <td>5.0</td>\n",
       "      <td>54.43 Lakh</td>\n",
       "      <td>20.75</td>\n",
       "    </tr>\n",
       "    <tr>\n",
       "      <th>117</th>\n",
       "      <td>Nissan Micra XV CVT</td>\n",
       "      <td>Coimbatore</td>\n",
       "      <td>2016</td>\n",
       "      <td>39882</td>\n",
       "      <td>Petrol</td>\n",
       "      <td>Automatic</td>\n",
       "      <td>First</td>\n",
       "      <td>19.15 kmpl</td>\n",
       "      <td>1198 CC</td>\n",
       "      <td>75.94 bhp</td>\n",
       "      <td>5.0</td>\n",
       "      <td>9.51 Lakh</td>\n",
       "      <td>6.55</td>\n",
       "    </tr>\n",
       "    <tr>\n",
       "      <th>119</th>\n",
       "      <td>Maruti Vitara Brezza VDi</td>\n",
       "      <td>Mumbai</td>\n",
       "      <td>2016</td>\n",
       "      <td>55000</td>\n",
       "      <td>Diesel</td>\n",
       "      <td>Manual</td>\n",
       "      <td>First</td>\n",
       "      <td>24.3 kmpl</td>\n",
       "      <td>1248 CC</td>\n",
       "      <td>88.5 bhp</td>\n",
       "      <td>5.0</td>\n",
       "      <td>9.96 Lakh</td>\n",
       "      <td>7.50</td>\n",
       "    </tr>\n",
       "    <tr>\n",
       "      <th>122</th>\n",
       "      <td>Hyundai Verna CRDi 1.6 SX Option</td>\n",
       "      <td>Kolkata</td>\n",
       "      <td>2018</td>\n",
       "      <td>10250</td>\n",
       "      <td>Diesel</td>\n",
       "      <td>Manual</td>\n",
       "      <td>First</td>\n",
       "      <td>22.0 kmpl</td>\n",
       "      <td>1582 CC</td>\n",
       "      <td>126.2 bhp</td>\n",
       "      <td>5.0</td>\n",
       "      <td>14.44 Lakh</td>\n",
       "      <td>10.95</td>\n",
       "    </tr>\n",
       "    <tr>\n",
       "      <th>133</th>\n",
       "      <td>Maruti Alto K10 VXI</td>\n",
       "      <td>Hyderabad</td>\n",
       "      <td>2014</td>\n",
       "      <td>88500</td>\n",
       "      <td>Petrol</td>\n",
       "      <td>Manual</td>\n",
       "      <td>First</td>\n",
       "      <td>24.07 kmpl</td>\n",
       "      <td>998 CC</td>\n",
       "      <td>67.1 bhp</td>\n",
       "      <td>5.0</td>\n",
       "      <td>4.53 Lakh</td>\n",
       "      <td>2.60</td>\n",
       "    </tr>\n",
       "    <tr>\n",
       "      <th>134</th>\n",
       "      <td>Mercedes-Benz SLC 43 AMG</td>\n",
       "      <td>Kolkata</td>\n",
       "      <td>2017</td>\n",
       "      <td>13372</td>\n",
       "      <td>Petrol</td>\n",
       "      <td>Automatic</td>\n",
       "      <td>First</td>\n",
       "      <td>19.0 kmpl</td>\n",
       "      <td>2996 CC</td>\n",
       "      <td>362.07 bhp</td>\n",
       "      <td>2.0</td>\n",
       "      <td>95.04 Lakh</td>\n",
       "      <td>54.00</td>\n",
       "    </tr>\n",
       "    <tr>\n",
       "      <th>135</th>\n",
       "      <td>Hyundai Verna VTVT 1.6 AT SX Plus</td>\n",
       "      <td>Kochi</td>\n",
       "      <td>2019</td>\n",
       "      <td>12645</td>\n",
       "      <td>Petrol</td>\n",
       "      <td>Automatic</td>\n",
       "      <td>First</td>\n",
       "      <td>17.0 kmpl</td>\n",
       "      <td>1591 CC</td>\n",
       "      <td>121.3 bhp</td>\n",
       "      <td>5.0</td>\n",
       "      <td>13.49 Lakh</td>\n",
       "      <td>11.50</td>\n",
       "    </tr>\n",
       "    <tr>\n",
       "      <th>148</th>\n",
       "      <td>Audi RS5 Coupe</td>\n",
       "      <td>Mumbai</td>\n",
       "      <td>2013</td>\n",
       "      <td>23000</td>\n",
       "      <td>Petrol</td>\n",
       "      <td>Automatic</td>\n",
       "      <td>First</td>\n",
       "      <td>11.05 kmpl</td>\n",
       "      <td>2894 CC</td>\n",
       "      <td>444 bhp</td>\n",
       "      <td>4.0</td>\n",
       "      <td>1.28 Cr</td>\n",
       "      <td>37.00</td>\n",
       "    </tr>\n",
       "    <tr>\n",
       "      <th>149</th>\n",
       "      <td>BMW 3 Series Luxury Line</td>\n",
       "      <td>Mumbai</td>\n",
       "      <td>2014</td>\n",
       "      <td>48000</td>\n",
       "      <td>Diesel</td>\n",
       "      <td>Automatic</td>\n",
       "      <td>First</td>\n",
       "      <td>21.76 kmpl</td>\n",
       "      <td>1995 CC</td>\n",
       "      <td>190 bhp</td>\n",
       "      <td>5.0</td>\n",
       "      <td>60.88 Lakh</td>\n",
       "      <td>26.50</td>\n",
       "    </tr>\n",
       "    <tr>\n",
       "      <th>173</th>\n",
       "      <td>Hyundai Grand i10 1.2 Kappa Asta</td>\n",
       "      <td>Kolkata</td>\n",
       "      <td>2019</td>\n",
       "      <td>1000</td>\n",
       "      <td>Petrol</td>\n",
       "      <td>Manual</td>\n",
       "      <td>First</td>\n",
       "      <td>18.9 kmpl</td>\n",
       "      <td>1197 CC</td>\n",
       "      <td>81.86 bhp</td>\n",
       "      <td>5.0</td>\n",
       "      <td>7.39 Lakh</td>\n",
       "      <td>6.50</td>\n",
       "    </tr>\n",
       "    <tr>\n",
       "      <th>182</th>\n",
       "      <td>BMW 5 Series 520d Luxury Line</td>\n",
       "      <td>Hyderabad</td>\n",
       "      <td>2014</td>\n",
       "      <td>51000</td>\n",
       "      <td>Diesel</td>\n",
       "      <td>Automatic</td>\n",
       "      <td>First</td>\n",
       "      <td>22.48 kmpl</td>\n",
       "      <td>1995 CC</td>\n",
       "      <td>190 bhp</td>\n",
       "      <td>5.0</td>\n",
       "      <td>69.47 Lakh</td>\n",
       "      <td>33.50</td>\n",
       "    </tr>\n",
       "    <tr>\n",
       "      <th>187</th>\n",
       "      <td>Maruti Baleno Alpha</td>\n",
       "      <td>Kochi</td>\n",
       "      <td>2017</td>\n",
       "      <td>24773</td>\n",
       "      <td>Petrol</td>\n",
       "      <td>Manual</td>\n",
       "      <td>First</td>\n",
       "      <td>21.4 kmpl</td>\n",
       "      <td>1197 CC</td>\n",
       "      <td>83.1 bhp</td>\n",
       "      <td>5.0</td>\n",
       "      <td>8.78 Lakh</td>\n",
       "      <td>7.50</td>\n",
       "    </tr>\n",
       "    <tr>\n",
       "      <th>193</th>\n",
       "      <td>Maruti Ertiga ZDI</td>\n",
       "      <td>Mumbai</td>\n",
       "      <td>2016</td>\n",
       "      <td>33000</td>\n",
       "      <td>Diesel</td>\n",
       "      <td>Manual</td>\n",
       "      <td>First</td>\n",
       "      <td>25.47 kmpl</td>\n",
       "      <td>1248 CC</td>\n",
       "      <td>88.50 bhp</td>\n",
       "      <td>7.0</td>\n",
       "      <td>12.74 Lakh</td>\n",
       "      <td>8.50</td>\n",
       "    </tr>\n",
       "    <tr>\n",
       "      <th>200</th>\n",
       "      <td>Mahindra NuvoSport N6</td>\n",
       "      <td>Chennai</td>\n",
       "      <td>2017</td>\n",
       "      <td>29000</td>\n",
       "      <td>Diesel</td>\n",
       "      <td>Manual</td>\n",
       "      <td>Second</td>\n",
       "      <td>17.45 kmpl</td>\n",
       "      <td>1493 CC</td>\n",
       "      <td>100 bhp</td>\n",
       "      <td>7.0</td>\n",
       "      <td>10.52 Lakh</td>\n",
       "      <td>6.50</td>\n",
       "    </tr>\n",
       "    <tr>\n",
       "      <th>201</th>\n",
       "      <td>Maruti Vitara Brezza ZDi Plus Dual Tone</td>\n",
       "      <td>Mumbai</td>\n",
       "      <td>2016</td>\n",
       "      <td>20000</td>\n",
       "      <td>Diesel</td>\n",
       "      <td>Manual</td>\n",
       "      <td>First</td>\n",
       "      <td>24.3 kmpl</td>\n",
       "      <td>1248 CC</td>\n",
       "      <td>88.5 bhp</td>\n",
       "      <td>5.0</td>\n",
       "      <td>11.98 Lakh</td>\n",
       "      <td>9.00</td>\n",
       "    </tr>\n",
       "    <tr>\n",
       "      <th>210</th>\n",
       "      <td>Honda Amaze S Diesel</td>\n",
       "      <td>Kolkata</td>\n",
       "      <td>2013</td>\n",
       "      <td>45000</td>\n",
       "      <td>Diesel</td>\n",
       "      <td>Manual</td>\n",
       "      <td>First</td>\n",
       "      <td>27.4 kmpl</td>\n",
       "      <td>1498 CC</td>\n",
       "      <td>98.6 bhp</td>\n",
       "      <td>5.0</td>\n",
       "      <td>8.54 Lakh</td>\n",
       "      <td>3.25</td>\n",
       "    </tr>\n",
       "    <tr>\n",
       "      <th>219</th>\n",
       "      <td>Skoda Superb Style 1.8 TSI AT</td>\n",
       "      <td>Hyderabad</td>\n",
       "      <td>2017</td>\n",
       "      <td>26000</td>\n",
       "      <td>Petrol</td>\n",
       "      <td>Automatic</td>\n",
       "      <td>First</td>\n",
       "      <td>14.67 kmpl</td>\n",
       "      <td>1798 CC</td>\n",
       "      <td>177.46 bhp</td>\n",
       "      <td>5.0</td>\n",
       "      <td>33.58 Lakh</td>\n",
       "      <td>26.00</td>\n",
       "    </tr>\n",
       "    <tr>\n",
       "      <th>223</th>\n",
       "      <td>Mahindra Verito 1.5 D4 BSIV</td>\n",
       "      <td>Hyderabad</td>\n",
       "      <td>2013</td>\n",
       "      <td>107000</td>\n",
       "      <td>Diesel</td>\n",
       "      <td>Manual</td>\n",
       "      <td>First</td>\n",
       "      <td>21.03 kmpl</td>\n",
       "      <td>1461 CC</td>\n",
       "      <td>65 bhp</td>\n",
       "      <td>5.0</td>\n",
       "      <td>9.12 Lakh</td>\n",
       "      <td>3.70</td>\n",
       "    </tr>\n",
       "    <tr>\n",
       "      <th>225</th>\n",
       "      <td>Maruti Wagon R VXI</td>\n",
       "      <td>Kolkata</td>\n",
       "      <td>2013</td>\n",
       "      <td>32000</td>\n",
       "      <td>Petrol</td>\n",
       "      <td>Manual</td>\n",
       "      <td>First</td>\n",
       "      <td>22.5 kmpl</td>\n",
       "      <td>998 CC</td>\n",
       "      <td>67.04 bhp</td>\n",
       "      <td>5.0</td>\n",
       "      <td>5.29 Lakh</td>\n",
       "      <td>2.65</td>\n",
       "    </tr>\n",
       "    <tr>\n",
       "      <th>228</th>\n",
       "      <td>Mini Cooper Convertible S</td>\n",
       "      <td>Kochi</td>\n",
       "      <td>2017</td>\n",
       "      <td>26327</td>\n",
       "      <td>Petrol</td>\n",
       "      <td>Automatic</td>\n",
       "      <td>First</td>\n",
       "      <td>16.82 kmpl</td>\n",
       "      <td>1998 CC</td>\n",
       "      <td>189.08 bhp</td>\n",
       "      <td>4.0</td>\n",
       "      <td>44.28 Lakh</td>\n",
       "      <td>35.67</td>\n",
       "    </tr>\n",
       "    <tr>\n",
       "      <th>235</th>\n",
       "      <td>Toyota Innova Crysta 2.8 GX AT</td>\n",
       "      <td>Kochi</td>\n",
       "      <td>2019</td>\n",
       "      <td>14165</td>\n",
       "      <td>Diesel</td>\n",
       "      <td>Automatic</td>\n",
       "      <td>First</td>\n",
       "      <td>11.36 kmpl</td>\n",
       "      <td>2755 CC</td>\n",
       "      <td>171.5 bhp</td>\n",
       "      <td>7.0</td>\n",
       "      <td>20.74 Lakh</td>\n",
       "      <td>19.64</td>\n",
       "    </tr>\n",
       "    <tr>\n",
       "      <th>237</th>\n",
       "      <td>Honda City i-VTEC V</td>\n",
       "      <td>Kolkata</td>\n",
       "      <td>2011</td>\n",
       "      <td>32572</td>\n",
       "      <td>Petrol</td>\n",
       "      <td>Manual</td>\n",
       "      <td>First</td>\n",
       "      <td>17.4 kmpl</td>\n",
       "      <td>1497 CC</td>\n",
       "      <td>117.3 bhp</td>\n",
       "      <td>5.0</td>\n",
       "      <td>11.74 Lakh</td>\n",
       "      <td>3.87</td>\n",
       "    </tr>\n",
       "    <tr>\n",
       "      <th>256</th>\n",
       "      <td>Toyota Innova Crysta 2.4 ZX MT</td>\n",
       "      <td>Pune</td>\n",
       "      <td>2017</td>\n",
       "      <td>43000</td>\n",
       "      <td>Diesel</td>\n",
       "      <td>Manual</td>\n",
       "      <td>First</td>\n",
       "      <td>13.68 kmpl</td>\n",
       "      <td>2393 CC</td>\n",
       "      <td>147.8 bhp</td>\n",
       "      <td>7.0</td>\n",
       "      <td>25.52 Lakh</td>\n",
       "      <td>18.65</td>\n",
       "    </tr>\n",
       "    <tr>\n",
       "      <th>261</th>\n",
       "      <td>Hyundai Verna CRDi 1.6 SX</td>\n",
       "      <td>Hyderabad</td>\n",
       "      <td>2008</td>\n",
       "      <td>143275</td>\n",
       "      <td>Diesel</td>\n",
       "      <td>Manual</td>\n",
       "      <td>First</td>\n",
       "      <td>22.0 kmpl</td>\n",
       "      <td>1582 CC</td>\n",
       "      <td>126.2 bhp</td>\n",
       "      <td>5.0</td>\n",
       "      <td>14.07 Lakh</td>\n",
       "      <td>2.60</td>\n",
       "    </tr>\n",
       "    <tr>\n",
       "      <th>264</th>\n",
       "      <td>Mercedes-Benz GLE 350d</td>\n",
       "      <td>Coimbatore</td>\n",
       "      <td>2017</td>\n",
       "      <td>29819</td>\n",
       "      <td>Diesel</td>\n",
       "      <td>Automatic</td>\n",
       "      <td>First</td>\n",
       "      <td>11.57 kmpl</td>\n",
       "      <td>2987 CC</td>\n",
       "      <td>254.79 bhp</td>\n",
       "      <td>5.0</td>\n",
       "      <td>95.13 Lakh</td>\n",
       "      <td>61.29</td>\n",
       "    </tr>\n",
       "    <tr>\n",
       "      <th>277</th>\n",
       "      <td>Tata Zest Quadrajet 1.3 75PS XE</td>\n",
       "      <td>Pune</td>\n",
       "      <td>2017</td>\n",
       "      <td>121900</td>\n",
       "      <td>Diesel</td>\n",
       "      <td>Manual</td>\n",
       "      <td>First</td>\n",
       "      <td>22.95 kmpl</td>\n",
       "      <td>1248 CC</td>\n",
       "      <td>74 bhp</td>\n",
       "      <td>5.0</td>\n",
       "      <td>8.34 Lakh</td>\n",
       "      <td>3.75</td>\n",
       "    </tr>\n",
       "    <tr>\n",
       "      <th>290</th>\n",
       "      <td>Tata Zest Quadrajet 1.3 75PS XE</td>\n",
       "      <td>Pune</td>\n",
       "      <td>2018</td>\n",
       "      <td>45000</td>\n",
       "      <td>Diesel</td>\n",
       "      <td>Manual</td>\n",
       "      <td>First</td>\n",
       "      <td>22.95 kmpl</td>\n",
       "      <td>1248 CC</td>\n",
       "      <td>74 bhp</td>\n",
       "      <td>5.0</td>\n",
       "      <td>8.34 Lakh</td>\n",
       "      <td>5.25</td>\n",
       "    </tr>\n",
       "    <tr>\n",
       "      <th>293</th>\n",
       "      <td>Honda Jazz VX</td>\n",
       "      <td>Delhi</td>\n",
       "      <td>2015</td>\n",
       "      <td>62178</td>\n",
       "      <td>Petrol</td>\n",
       "      <td>Manual</td>\n",
       "      <td>First</td>\n",
       "      <td>18.2 kmpl</td>\n",
       "      <td>1199 CC</td>\n",
       "      <td>88.7 bhp</td>\n",
       "      <td>5.0</td>\n",
       "      <td>8.85 Lakh</td>\n",
       "      <td>4.85</td>\n",
       "    </tr>\n",
       "    <tr>\n",
       "      <th>298</th>\n",
       "      <td>Toyota Innova Crysta 2.4 ZX MT</td>\n",
       "      <td>Chennai</td>\n",
       "      <td>2016</td>\n",
       "      <td>48000</td>\n",
       "      <td>Diesel</td>\n",
       "      <td>Manual</td>\n",
       "      <td>First</td>\n",
       "      <td>13.68 kmpl</td>\n",
       "      <td>2393 CC</td>\n",
       "      <td>147.8 bhp</td>\n",
       "      <td>7.0</td>\n",
       "      <td>25.4 Lakh</td>\n",
       "      <td>20.25</td>\n",
       "    </tr>\n",
       "    <tr>\n",
       "      <th>303</th>\n",
       "      <td>Honda City i-VTEC CVT ZX</td>\n",
       "      <td>Mumbai</td>\n",
       "      <td>2017</td>\n",
       "      <td>15000</td>\n",
       "      <td>Petrol</td>\n",
       "      <td>Automatic</td>\n",
       "      <td>First</td>\n",
       "      <td>18.0 kmpl</td>\n",
       "      <td>1497 CC</td>\n",
       "      <td>117.3 bhp</td>\n",
       "      <td>5.0</td>\n",
       "      <td>16.67 Lakh</td>\n",
       "      <td>12.69</td>\n",
       "    </tr>\n",
       "    <tr>\n",
       "      <th>310</th>\n",
       "      <td>Mercedes-Benz GLE 250d</td>\n",
       "      <td>Hyderabad</td>\n",
       "      <td>2017</td>\n",
       "      <td>29000</td>\n",
       "      <td>Diesel</td>\n",
       "      <td>Automatic</td>\n",
       "      <td>First</td>\n",
       "      <td>17.9 kmpl</td>\n",
       "      <td>2143 CC</td>\n",
       "      <td>201.15 bhp</td>\n",
       "      <td>5.0</td>\n",
       "      <td>79.43 Lakh</td>\n",
       "      <td>57.00</td>\n",
       "    </tr>\n",
       "  </tbody>\n",
       "</table>\n",
       "</div>"
      ],
      "text/plain": [
       "                                         Name    Location  Year  \\\n",
       "2                                Honda Jazz V     Chennai  2011   \n",
       "7           Toyota Innova Crysta 2.8 GX AT 8S      Mumbai  2016   \n",
       "10                           Maruti Ciaz Zeta       Kochi  2018   \n",
       "15                Mitsubishi Pajero Sport 4X4       Delhi  2014   \n",
       "20                          BMW 3 Series 320d       Kochi  2014   \n",
       "28                        Honda WRV i-VTEC VX       Kochi  2018   \n",
       "34              Volkswagen Vento 1.6 Highline  Coimbatore  2014   \n",
       "36              Maruti Vitara Brezza ZDi Plus       Kochi  2018   \n",
       "44           Hyundai Elantra 2.0 SX Option AT   Bangalore  2014   \n",
       "47             Toyota Innova Crysta 2.7 GX MT   Bangalore  2012   \n",
       "60          Toyota Innova Crysta 2.4 GX MT 8S      Mumbai  2017   \n",
       "67   Mercedes-Benz C-Class Progressive C 220d  Coimbatore  2019   \n",
       "69            Hyundai Creta 1.4 E Plus Diesel      Mumbai  2018   \n",
       "73                    Nissan Terrano XV D Pre       Kochi  2015   \n",
       "81                 Tata Zest Revotron 1.2T XE        Pune  2017   \n",
       "102                   Datsun GO Plus T Petrol        Pune  2017   \n",
       "106                   Toyota Etios Liva 1.2 G   Ahmedabad  2014   \n",
       "110            Toyota Innova Crysta 2.8 ZX AT      Mumbai  2017   \n",
       "111                   Maruti Eeco 5 Seater AC  Coimbatore  2017   \n",
       "113             BMW 3 Series 320d Luxury Line      Mumbai  2015   \n",
       "117                       Nissan Micra XV CVT  Coimbatore  2016   \n",
       "119                  Maruti Vitara Brezza VDi      Mumbai  2016   \n",
       "122          Hyundai Verna CRDi 1.6 SX Option     Kolkata  2018   \n",
       "133                       Maruti Alto K10 VXI   Hyderabad  2014   \n",
       "134                  Mercedes-Benz SLC 43 AMG     Kolkata  2017   \n",
       "135         Hyundai Verna VTVT 1.6 AT SX Plus       Kochi  2019   \n",
       "148                            Audi RS5 Coupe      Mumbai  2013   \n",
       "149                  BMW 3 Series Luxury Line      Mumbai  2014   \n",
       "173          Hyundai Grand i10 1.2 Kappa Asta     Kolkata  2019   \n",
       "182             BMW 5 Series 520d Luxury Line   Hyderabad  2014   \n",
       "187                       Maruti Baleno Alpha       Kochi  2017   \n",
       "193                         Maruti Ertiga ZDI      Mumbai  2016   \n",
       "200                     Mahindra NuvoSport N6     Chennai  2017   \n",
       "201   Maruti Vitara Brezza ZDi Plus Dual Tone      Mumbai  2016   \n",
       "210                      Honda Amaze S Diesel     Kolkata  2013   \n",
       "219             Skoda Superb Style 1.8 TSI AT   Hyderabad  2017   \n",
       "223               Mahindra Verito 1.5 D4 BSIV   Hyderabad  2013   \n",
       "225                        Maruti Wagon R VXI     Kolkata  2013   \n",
       "228                 Mini Cooper Convertible S       Kochi  2017   \n",
       "235            Toyota Innova Crysta 2.8 GX AT       Kochi  2019   \n",
       "237                       Honda City i-VTEC V     Kolkata  2011   \n",
       "256            Toyota Innova Crysta 2.4 ZX MT        Pune  2017   \n",
       "261                 Hyundai Verna CRDi 1.6 SX   Hyderabad  2008   \n",
       "264                    Mercedes-Benz GLE 350d  Coimbatore  2017   \n",
       "277           Tata Zest Quadrajet 1.3 75PS XE        Pune  2017   \n",
       "290           Tata Zest Quadrajet 1.3 75PS XE        Pune  2018   \n",
       "293                             Honda Jazz VX       Delhi  2015   \n",
       "298            Toyota Innova Crysta 2.4 ZX MT     Chennai  2016   \n",
       "303                  Honda City i-VTEC CVT ZX      Mumbai  2017   \n",
       "310                    Mercedes-Benz GLE 250d   Hyderabad  2017   \n",
       "\n",
       "     Kilometers_Driven Fuel_Type Transmission Owner_Type     Mileage   Engine  \\\n",
       "2                46000    Petrol       Manual      First   18.2 kmpl  1199 CC   \n",
       "7                36000    Diesel    Automatic      First  11.36 kmpl  2755 CC   \n",
       "10               25692    Petrol       Manual      First  21.56 kmpl  1462 CC   \n",
       "15              110000    Diesel       Manual      First   13.5 kmpl  2477 CC   \n",
       "20               32982    Diesel    Automatic      First  22.69 kmpl  1995 CC   \n",
       "28               37430    Petrol       Manual      First   17.5 kmpl  1199 CC   \n",
       "34               55431    Petrol       Manual     Second  16.09 kmpl  1598 CC   \n",
       "36               50075    Diesel       Manual      First   24.3 kmpl  1248 CC   \n",
       "44               46374    Petrol    Automatic      First  14.62 kmpl  1999 CC   \n",
       "47               70704    Petrol       Manual      First  11.25 kmpl  2694 CC   \n",
       "60               22000    Diesel       Manual      First  13.68 kmpl  2393 CC   \n",
       "67               15369    Diesel    Automatic      First    0.0 kmpl  1950 CC   \n",
       "69               13000    Diesel       Manual      First   22.1 kmpl  1396 CC   \n",
       "73               56066    Diesel       Manual      First  19.64 kmpl  1461 CC   \n",
       "81               70000    Petrol       Manual      First  17.57 kmpl  1193 CC   \n",
       "102              32851    Petrol       Manual      First  19.83 kmpl  1198 CC   \n",
       "106              53000    Petrol       Manual      First  17.71 kmpl  1197 CC   \n",
       "110              30000    Diesel    Automatic      First  11.36 kmpl  2755 CC   \n",
       "111              38053    Petrol       Manual      First   15.1 kmpl  1196 CC   \n",
       "113              56087    Diesel    Automatic      First  22.69 kmpl  1995 CC   \n",
       "117              39882    Petrol    Automatic      First  19.15 kmpl  1198 CC   \n",
       "119              55000    Diesel       Manual      First   24.3 kmpl  1248 CC   \n",
       "122              10250    Diesel       Manual      First   22.0 kmpl  1582 CC   \n",
       "133              88500    Petrol       Manual      First  24.07 kmpl   998 CC   \n",
       "134              13372    Petrol    Automatic      First   19.0 kmpl  2996 CC   \n",
       "135              12645    Petrol    Automatic      First   17.0 kmpl  1591 CC   \n",
       "148              23000    Petrol    Automatic      First  11.05 kmpl  2894 CC   \n",
       "149              48000    Diesel    Automatic      First  21.76 kmpl  1995 CC   \n",
       "173               1000    Petrol       Manual      First   18.9 kmpl  1197 CC   \n",
       "182              51000    Diesel    Automatic      First  22.48 kmpl  1995 CC   \n",
       "187              24773    Petrol       Manual      First   21.4 kmpl  1197 CC   \n",
       "193              33000    Diesel       Manual      First  25.47 kmpl  1248 CC   \n",
       "200              29000    Diesel       Manual     Second  17.45 kmpl  1493 CC   \n",
       "201              20000    Diesel       Manual      First   24.3 kmpl  1248 CC   \n",
       "210              45000    Diesel       Manual      First   27.4 kmpl  1498 CC   \n",
       "219              26000    Petrol    Automatic      First  14.67 kmpl  1798 CC   \n",
       "223             107000    Diesel       Manual      First  21.03 kmpl  1461 CC   \n",
       "225              32000    Petrol       Manual      First   22.5 kmpl   998 CC   \n",
       "228              26327    Petrol    Automatic      First  16.82 kmpl  1998 CC   \n",
       "235              14165    Diesel    Automatic      First  11.36 kmpl  2755 CC   \n",
       "237              32572    Petrol       Manual      First   17.4 kmpl  1497 CC   \n",
       "256              43000    Diesel       Manual      First  13.68 kmpl  2393 CC   \n",
       "261             143275    Diesel       Manual      First   22.0 kmpl  1582 CC   \n",
       "264              29819    Diesel    Automatic      First  11.57 kmpl  2987 CC   \n",
       "277             121900    Diesel       Manual      First  22.95 kmpl  1248 CC   \n",
       "290              45000    Diesel       Manual      First  22.95 kmpl  1248 CC   \n",
       "293              62178    Petrol       Manual      First   18.2 kmpl  1199 CC   \n",
       "298              48000    Diesel       Manual      First  13.68 kmpl  2393 CC   \n",
       "303              15000    Petrol    Automatic      First   18.0 kmpl  1497 CC   \n",
       "310              29000    Diesel    Automatic      First   17.9 kmpl  2143 CC   \n",
       "\n",
       "          Power  Seats   New_Price  Price  \n",
       "2      88.7 bhp    5.0   8.61 Lakh   4.50  \n",
       "7     171.5 bhp    8.0     21 Lakh  17.50  \n",
       "10   103.25 bhp    5.0  10.65 Lakh   9.95  \n",
       "15   175.56 bhp    7.0  32.01 Lakh  15.00  \n",
       "20      190 bhp    5.0  47.87 Lakh  18.55  \n",
       "28     88.7 bhp    5.0  10.57 Lakh   9.90  \n",
       "34    103.5 bhp    5.0  12.33 Lakh   6.98  \n",
       "36     88.5 bhp    5.0  11.12 Lakh   8.63  \n",
       "44   149.92 bhp    5.0  23.64 Lakh   8.85  \n",
       "47    163.7 bhp    7.0  18.64 Lakh  10.95  \n",
       "60    147.8 bhp    8.0  19.34 Lakh  16.50  \n",
       "67      194 bhp    5.0  49.14 Lakh  35.67  \n",
       "69     88.7 bhp    5.0  11.81 Lakh  10.50  \n",
       "73    108.5 bhp    5.0  16.65 Lakh   6.92  \n",
       "81     88.7 bhp    5.0   6.67 Lakh   4.50  \n",
       "102      67 bhp    7.0   6.45 Lakh   3.95  \n",
       "106    78.9 bhp    5.0   6.41 Lakh   3.90  \n",
       "110   171.5 bhp    7.0     27 Lakh  19.25  \n",
       "111      73 bhp    5.0   5.13 Lakh   3.91  \n",
       "113     190 bhp    5.0  54.43 Lakh  20.75  \n",
       "117   75.94 bhp    5.0   9.51 Lakh   6.55  \n",
       "119    88.5 bhp    5.0   9.96 Lakh   7.50  \n",
       "122   126.2 bhp    5.0  14.44 Lakh  10.95  \n",
       "133    67.1 bhp    5.0   4.53 Lakh   2.60  \n",
       "134  362.07 bhp    2.0  95.04 Lakh  54.00  \n",
       "135   121.3 bhp    5.0  13.49 Lakh  11.50  \n",
       "148     444 bhp    4.0     1.28 Cr  37.00  \n",
       "149     190 bhp    5.0  60.88 Lakh  26.50  \n",
       "173   81.86 bhp    5.0   7.39 Lakh   6.50  \n",
       "182     190 bhp    5.0  69.47 Lakh  33.50  \n",
       "187    83.1 bhp    5.0   8.78 Lakh   7.50  \n",
       "193   88.50 bhp    7.0  12.74 Lakh   8.50  \n",
       "200     100 bhp    7.0  10.52 Lakh   6.50  \n",
       "201    88.5 bhp    5.0  11.98 Lakh   9.00  \n",
       "210    98.6 bhp    5.0   8.54 Lakh   3.25  \n",
       "219  177.46 bhp    5.0  33.58 Lakh  26.00  \n",
       "223      65 bhp    5.0   9.12 Lakh   3.70  \n",
       "225   67.04 bhp    5.0   5.29 Lakh   2.65  \n",
       "228  189.08 bhp    4.0  44.28 Lakh  35.67  \n",
       "235   171.5 bhp    7.0  20.74 Lakh  19.64  \n",
       "237   117.3 bhp    5.0  11.74 Lakh   3.87  \n",
       "256   147.8 bhp    7.0  25.52 Lakh  18.65  \n",
       "261   126.2 bhp    5.0  14.07 Lakh   2.60  \n",
       "264  254.79 bhp    5.0  95.13 Lakh  61.29  \n",
       "277      74 bhp    5.0   8.34 Lakh   3.75  \n",
       "290      74 bhp    5.0   8.34 Lakh   5.25  \n",
       "293    88.7 bhp    5.0   8.85 Lakh   4.85  \n",
       "298   147.8 bhp    7.0   25.4 Lakh  20.25  \n",
       "303   117.3 bhp    5.0  16.67 Lakh  12.69  \n",
       "310  201.15 bhp    5.0  79.43 Lakh  57.00  "
      ]
     },
     "execution_count": 10,
     "metadata": {},
     "output_type": "execute_result"
    }
   ],
   "source": [
    "data.head(50)"
   ]
  },
  {
   "cell_type": "code",
   "execution_count": 11,
   "metadata": {},
   "outputs": [],
   "source": [
    "# 데이터 내의 단위 제거\n",
    "data['Engine'] = data['Engine'].str.replace(\" CC\",\"\")\n",
    "data['Power'] = data['Power'].str.replace(\" bhp\",\"\")\n",
    "data['Mileage'] = data['Mileage'].str.replace(\" kmpl\",\"\")\n",
    "data['New_Price'] = data['New_Price'].str.replace(\" Lakh\",\"\")\n",
    "data['Mileage'] = data['Mileage'].str.replace(\" km/kg\",\"\")\n",
    "data['New_Price'] = data['New_Price'].str.replace(\" Cr\",\"\")"
   ]
  },
  {
   "cell_type": "code",
   "execution_count": 12,
   "metadata": {},
   "outputs": [],
   "source": [
    "data['Mileage'] = pd.to_numeric(data['Mileage'])\n",
    "data['Engine'] = pd.to_numeric(data['Engine'])\n",
    "data['Power'] = pd.to_numeric(data['Power'])\n",
    "data['New_Price'] = pd.to_numeric(data['New_Price'])"
   ]
  },
  {
   "cell_type": "code",
   "execution_count": 13,
   "metadata": {},
   "outputs": [],
   "source": [
    "#Name에서 자동차 업체만 뽑기\n",
    "data[\"Name\"] = data[\"Name\"].str.split().str[0]"
   ]
  },
  {
   "cell_type": "code",
   "execution_count": 14,
   "metadata": {},
   "outputs": [
    {
     "data": {
      "text/html": [
       "<div>\n",
       "<style scoped>\n",
       "    .dataframe tbody tr th:only-of-type {\n",
       "        vertical-align: middle;\n",
       "    }\n",
       "\n",
       "    .dataframe tbody tr th {\n",
       "        vertical-align: top;\n",
       "    }\n",
       "\n",
       "    .dataframe thead th {\n",
       "        text-align: right;\n",
       "    }\n",
       "</style>\n",
       "<table border=\"1\" class=\"dataframe\">\n",
       "  <thead>\n",
       "    <tr style=\"text-align: right;\">\n",
       "      <th></th>\n",
       "      <th>Name</th>\n",
       "      <th>Location</th>\n",
       "      <th>Year</th>\n",
       "      <th>Kilometers_Driven</th>\n",
       "      <th>Fuel_Type</th>\n",
       "      <th>Transmission</th>\n",
       "      <th>Owner_Type</th>\n",
       "      <th>Mileage</th>\n",
       "      <th>Engine</th>\n",
       "      <th>Power</th>\n",
       "      <th>Seats</th>\n",
       "      <th>New_Price</th>\n",
       "      <th>Price</th>\n",
       "    </tr>\n",
       "  </thead>\n",
       "  <tbody>\n",
       "    <tr>\n",
       "      <th>2</th>\n",
       "      <td>Honda</td>\n",
       "      <td>Chennai</td>\n",
       "      <td>2011</td>\n",
       "      <td>46000</td>\n",
       "      <td>Petrol</td>\n",
       "      <td>Manual</td>\n",
       "      <td>First</td>\n",
       "      <td>18.20</td>\n",
       "      <td>1199</td>\n",
       "      <td>88.70</td>\n",
       "      <td>5.0</td>\n",
       "      <td>8.61</td>\n",
       "      <td>4.50</td>\n",
       "    </tr>\n",
       "    <tr>\n",
       "      <th>7</th>\n",
       "      <td>Toyota</td>\n",
       "      <td>Mumbai</td>\n",
       "      <td>2016</td>\n",
       "      <td>36000</td>\n",
       "      <td>Diesel</td>\n",
       "      <td>Automatic</td>\n",
       "      <td>First</td>\n",
       "      <td>11.36</td>\n",
       "      <td>2755</td>\n",
       "      <td>171.50</td>\n",
       "      <td>8.0</td>\n",
       "      <td>21.00</td>\n",
       "      <td>17.50</td>\n",
       "    </tr>\n",
       "    <tr>\n",
       "      <th>10</th>\n",
       "      <td>Maruti</td>\n",
       "      <td>Kochi</td>\n",
       "      <td>2018</td>\n",
       "      <td>25692</td>\n",
       "      <td>Petrol</td>\n",
       "      <td>Manual</td>\n",
       "      <td>First</td>\n",
       "      <td>21.56</td>\n",
       "      <td>1462</td>\n",
       "      <td>103.25</td>\n",
       "      <td>5.0</td>\n",
       "      <td>10.65</td>\n",
       "      <td>9.95</td>\n",
       "    </tr>\n",
       "    <tr>\n",
       "      <th>15</th>\n",
       "      <td>Mitsubishi</td>\n",
       "      <td>Delhi</td>\n",
       "      <td>2014</td>\n",
       "      <td>110000</td>\n",
       "      <td>Diesel</td>\n",
       "      <td>Manual</td>\n",
       "      <td>First</td>\n",
       "      <td>13.50</td>\n",
       "      <td>2477</td>\n",
       "      <td>175.56</td>\n",
       "      <td>7.0</td>\n",
       "      <td>32.01</td>\n",
       "      <td>15.00</td>\n",
       "    </tr>\n",
       "    <tr>\n",
       "      <th>20</th>\n",
       "      <td>BMW</td>\n",
       "      <td>Kochi</td>\n",
       "      <td>2014</td>\n",
       "      <td>32982</td>\n",
       "      <td>Diesel</td>\n",
       "      <td>Automatic</td>\n",
       "      <td>First</td>\n",
       "      <td>22.69</td>\n",
       "      <td>1995</td>\n",
       "      <td>190.00</td>\n",
       "      <td>5.0</td>\n",
       "      <td>47.87</td>\n",
       "      <td>18.55</td>\n",
       "    </tr>\n",
       "  </tbody>\n",
       "</table>\n",
       "</div>"
      ],
      "text/plain": [
       "          Name Location  Year  Kilometers_Driven Fuel_Type Transmission  \\\n",
       "2        Honda  Chennai  2011              46000    Petrol       Manual   \n",
       "7       Toyota   Mumbai  2016              36000    Diesel    Automatic   \n",
       "10      Maruti    Kochi  2018              25692    Petrol       Manual   \n",
       "15  Mitsubishi    Delhi  2014             110000    Diesel       Manual   \n",
       "20         BMW    Kochi  2014              32982    Diesel    Automatic   \n",
       "\n",
       "   Owner_Type  Mileage  Engine   Power  Seats  New_Price  Price  \n",
       "2       First    18.20    1199   88.70    5.0       8.61   4.50  \n",
       "7       First    11.36    2755  171.50    8.0      21.00  17.50  \n",
       "10      First    21.56    1462  103.25    5.0      10.65   9.95  \n",
       "15      First    13.50    2477  175.56    7.0      32.01  15.00  \n",
       "20      First    22.69    1995  190.00    5.0      47.87  18.55  "
      ]
     },
     "execution_count": 14,
     "metadata": {},
     "output_type": "execute_result"
    }
   ],
   "source": [
    "data.head()"
   ]
  },
  {
   "cell_type": "code",
   "execution_count": 15,
   "metadata": {
    "scrolled": true
   },
   "outputs": [
    {
     "name": "stdout",
     "output_type": "stream",
     "text": [
      "<class 'pandas.core.frame.DataFrame'>\n",
      "Int64Index: 823 entries, 2 to 6014\n",
      "Data columns (total 13 columns):\n",
      " #   Column             Non-Null Count  Dtype  \n",
      "---  ------             --------------  -----  \n",
      " 0   Name               823 non-null    object \n",
      " 1   Location           823 non-null    object \n",
      " 2   Year               823 non-null    int64  \n",
      " 3   Kilometers_Driven  823 non-null    int64  \n",
      " 4   Fuel_Type          823 non-null    object \n",
      " 5   Transmission       823 non-null    object \n",
      " 6   Owner_Type         823 non-null    object \n",
      " 7   Mileage            823 non-null    float64\n",
      " 8   Engine             823 non-null    int64  \n",
      " 9   Power              823 non-null    float64\n",
      " 10  Seats              823 non-null    float64\n",
      " 11  New_Price          823 non-null    float64\n",
      " 12  Price              823 non-null    float64\n",
      "dtypes: float64(5), int64(3), object(5)\n",
      "memory usage: 90.0+ KB\n"
     ]
    }
   ],
   "source": [
    "data.info()"
   ]
  },
  {
   "cell_type": "markdown",
   "metadata": {},
   "source": [
    "### 정규성 판단"
   ]
  },
  {
   "cell_type": "code",
   "execution_count": 16,
   "metadata": {},
   "outputs": [
    {
     "data": {
      "text/plain": [
       "<AxesSubplot:>"
      ]
     },
     "execution_count": 16,
     "metadata": {},
     "output_type": "execute_result"
    },
    {
     "data": {
      "image/png": "[encoded data removed]",
      "text/plain": [
       "<Figure size 432x288 with 1 Axes>"
      ]
     },
     "metadata": {
      "needs_background": "light"
     },
     "output_type": "display_data"
    }
   ],
   "source": [
    "data['Price'].hist() "
   ]
  },
  {
   "cell_type": "code",
   "execution_count": 17,
   "metadata": {},
   "outputs": [],
   "source": [
    "# 위의 그래프가 치우친 형태여서 log 변환 수행\n",
    "\n",
    "data['logprice'] = np.log(data['Price'])"
   ]
  },
  {
   "cell_type": "code",
   "execution_count": 18,
   "metadata": {},
   "outputs": [
    {
     "data": {
      "text/plain": [
       "<AxesSubplot:>"
      ]
     },
     "execution_count": 18,
     "metadata": {},
     "output_type": "execute_result"
    },
    {
     "data": {
      "image/png": "[encoded data removed]",
      "text/plain": [
       "<Figure size 432x288 with 1 Axes>"
      ]
     },
     "metadata": {
      "needs_background": "light"
     },
     "output_type": "display_data"
    }
   ],
   "source": [
    "data['logprice'].hist()"
   ]
  },
  {
   "cell_type": "code",
   "execution_count": 19,
   "metadata": {},
   "outputs": [
    {
     "data": {
      "text/plain": [
       "<AxesSubplot:>"
      ]
     },
     "execution_count": 19,
     "metadata": {},
     "output_type": "execute_result"
    },
    {
     "data": {
      "image/png": "[encoded data removed]",
      "text/plain": [
       "<Figure size 432x288 with 1 Axes>"
      ]
     },
     "metadata": {
      "needs_background": "light"
     },
     "output_type": "display_data"
    }
   ],
   "source": [
    "data['Mileage'].hist()"
   ]
  },
  {
   "cell_type": "code",
   "execution_count": 20,
   "metadata": {},
   "outputs": [
    {
     "data": {
      "text/plain": [
       "<AxesSubplot:>"
      ]
     },
     "execution_count": 20,
     "metadata": {},
     "output_type": "execute_result"
    },
    {
     "data": {
      "image/png": "[encoded data removed]",
      "text/plain": [
       "<Figure size 432x288 with 1 Axes>"
      ]
     },
     "metadata": {
      "needs_background": "light"
     },
     "output_type": "display_data"
    }
   ],
   "source": [
    "data['Engine'].hist()"
   ]
  },
  {
   "cell_type": "code",
   "execution_count": 21,
   "metadata": {},
   "outputs": [
    {
     "data": {
      "text/plain": [
       "<AxesSubplot:>"
      ]
     },
     "execution_count": 21,
     "metadata": {},
     "output_type": "execute_result"
    },
    {
     "data": {
      "image/png": "[encoded data removed]",
      "text/plain": [
       "<Figure size 432x288 with 1 Axes>"
      ]
     },
     "metadata": {
      "needs_background": "light"
     },
     "output_type": "display_data"
    }
   ],
   "source": [
    "#Engine log 변환\n",
    "data['logEngine'] = np.log(data['Engine'])\n",
    "data['logEngine'].hist()"
   ]
  },
  {
   "cell_type": "code",
   "execution_count": 22,
   "metadata": {},
   "outputs": [
    {
     "data": {
      "text/plain": [
       "<AxesSubplot:>"
      ]
     },
     "execution_count": 22,
     "metadata": {},
     "output_type": "execute_result"
    },
    {
     "data": {
      "image/png": "[encoded data removed]",
      "text/plain": [
       "<Figure size 432x288 with 1 Axes>"
      ]
     },
     "metadata": {
      "needs_background": "light"
     },
     "output_type": "display_data"
    }
   ],
   "source": [
    "data['Power'].hist()"
   ]
  },
  {
   "cell_type": "code",
   "execution_count": 23,
   "metadata": {},
   "outputs": [
    {
     "data": {
      "text/plain": [
       "<AxesSubplot:>"
      ]
     },
     "execution_count": 23,
     "metadata": {},
     "output_type": "execute_result"
    },
    {
     "data": {
      "image/png": "[encoded data removed]",
      "text/plain": [
       "<Figure size 432x288 with 1 Axes>"
      ]
     },
     "metadata": {
      "needs_background": "light"
     },
     "output_type": "display_data"
    }
   ],
   "source": [
    "#Power log 변환\n",
    "data['logPower'] = np.log(data['Power'])\n",
    "data['logPower'].hist()"
   ]
  },
  {
   "cell_type": "code",
   "execution_count": 24,
   "metadata": {},
   "outputs": [
    {
     "data": {
      "text/plain": [
       "<AxesSubplot:>"
      ]
     },
     "execution_count": 24,
     "metadata": {},
     "output_type": "execute_result"
    },
    {
     "data": {
      "image/png": "[encoded data removed]",
      "text/plain": [
       "<Figure size 432x288 with 1 Axes>"
      ]
     },
     "metadata": {
      "needs_background": "light"
     },
     "output_type": "display_data"
    }
   ],
   "source": [
    "data['New_Price'].hist()"
   ]
  },
  {
   "cell_type": "code",
   "execution_count": 25,
   "metadata": {},
   "outputs": [
    {
     "data": {
      "text/plain": [
       "<AxesSubplot:>"
      ]
     },
     "execution_count": 25,
     "metadata": {},
     "output_type": "execute_result"
    },
    {
     "data": {
      "image/png": "[encoded data removed]",
      "text/plain": [
       "<Figure size 432x288 with 1 Axes>"
      ]
     },
     "metadata": {
      "needs_background": "light"
     },
     "output_type": "display_data"
    }
   ],
   "source": [
    "#New_Price log 변환\n",
    "data['logNew_Price'] = np.log(data['New_Price'])\n",
    "data['logNew_Price'].hist()"
   ]
  },
  {
   "cell_type": "code",
   "execution_count": 26,
   "metadata": {},
   "outputs": [
    {
     "data": {
      "text/plain": [
       "<AxesSubplot:>"
      ]
     },
     "execution_count": 26,
     "metadata": {},
     "output_type": "execute_result"
    },
    {
     "data": {
      "image/png": "[encoded data removed]",
      "text/plain": [
       "<Figure size 432x288 with 1 Axes>"
      ]
     },
     "metadata": {
      "needs_background": "light"
     },
     "output_type": "display_data"
    }
   ],
   "source": [
    "data['Kilometers_Driven'].hist()"
   ]
  },
  {
   "cell_type": "code",
   "execution_count": 27,
   "metadata": {},
   "outputs": [
    {
     "data": {
      "text/plain": [
       "<AxesSubplot:>"
      ]
     },
     "execution_count": 27,
     "metadata": {},
     "output_type": "execute_result"
    },
    {
     "data": {
      "image/png": "[encoded data removed]",
      "text/plain": [
       "<Figure size 432x288 with 1 Axes>"
      ]
     },
     "metadata": {
      "needs_background": "light"
     },
     "output_type": "display_data"
    }
   ],
   "source": [
    "#New_Price log 변환\n",
    "data['logKilometers_Driven'] = np.log(data['Kilometers_Driven'])\n",
    "data['logKilometers_Driven'].hist()"
   ]
  },
  {
   "cell_type": "code",
   "execution_count": 28,
   "metadata": {},
   "outputs": [
    {
     "name": "stdout",
     "output_type": "stream",
     "text": [
      "<class 'pandas.core.frame.DataFrame'>\n",
      "Int64Index: 823 entries, 2 to 6014\n",
      "Data columns (total 18 columns):\n",
      " #   Column                Non-Null Count  Dtype  \n",
      "---  ------                --------------  -----  \n",
      " 0   Name                  823 non-null    object \n",
      " 1   Location              823 non-null    object \n",
      " 2   Year                  823 non-null    int64  \n",
      " 3   Kilometers_Driven     823 non-null    int64  \n",
      " 4   Fuel_Type             823 non-null    object \n",
      " 5   Transmission          823 non-null    object \n",
      " 6   Owner_Type            823 non-null    object \n",
      " 7   Mileage               823 non-null    float64\n",
      " 8   Engine                823 non-null    int64  \n",
      " 9   Power                 823 non-null    float64\n",
      " 10  Seats                 823 non-null    float64\n",
      " 11  New_Price             823 non-null    float64\n",
      " 12  Price                 823 non-null    float64\n",
      " 13  logprice              823 non-null    float64\n",
      " 14  logEngine             823 non-null    float64\n",
      " 15  logPower              823 non-null    float64\n",
      " 16  logNew_Price          823 non-null    float64\n",
      " 17  logKilometers_Driven  823 non-null    float64\n",
      "dtypes: float64(10), int64(3), object(5)\n",
      "memory usage: 122.2+ KB\n"
     ]
    }
   ],
   "source": [
    "data.info()"
   ]
  },
  {
   "cell_type": "code",
   "execution_count": 29,
   "metadata": {},
   "outputs": [],
   "source": [
    "data_log = data.drop(['Kilometers_Driven','New_Price','Power','Engine','Price'],axis=1)"
   ]
  },
  {
   "cell_type": "code",
   "execution_count": 30,
   "metadata": {},
   "outputs": [
    {
     "name": "stdout",
     "output_type": "stream",
     "text": [
      "<class 'pandas.core.frame.DataFrame'>\n",
      "Int64Index: 823 entries, 2 to 6014\n",
      "Data columns (total 13 columns):\n",
      " #   Column                Non-Null Count  Dtype  \n",
      "---  ------                --------------  -----  \n",
      " 0   Name                  823 non-null    object \n",
      " 1   Location              823 non-null    object \n",
      " 2   Year                  823 non-null    int64  \n",
      " 3   Fuel_Type             823 non-null    object \n",
      " 4   Transmission          823 non-null    object \n",
      " 5   Owner_Type            823 non-null    object \n",
      " 6   Mileage               823 non-null    float64\n",
      " 7   Seats                 823 non-null    float64\n",
      " 8   logprice              823 non-null    float64\n",
      " 9   logEngine             823 non-null    float64\n",
      " 10  logPower              823 non-null    float64\n",
      " 11  logNew_Price          823 non-null    float64\n",
      " 12  logKilometers_Driven  823 non-null    float64\n",
      "dtypes: float64(7), int64(1), object(5)\n",
      "memory usage: 90.0+ KB\n"
     ]
    }
   ],
   "source": [
    "data_log.info()"
   ]
  },
  {
   "cell_type": "markdown",
   "metadata": {},
   "source": [
    "## 범주형 변수 dummy 변환"
   ]
  },
  {
   "cell_type": "code",
   "execution_count": 31,
   "metadata": {},
   "outputs": [
    {
     "data": {
      "text/html": [
       "<div>\n",
       "<style scoped>\n",
       "    .dataframe tbody tr th:only-of-type {\n",
       "        vertical-align: middle;\n",
       "    }\n",
       "\n",
       "    .dataframe tbody tr th {\n",
       "        vertical-align: top;\n",
       "    }\n",
       "\n",
       "    .dataframe thead th {\n",
       "        text-align: right;\n",
       "    }\n",
       "</style>\n",
       "<table border=\"1\" class=\"dataframe\">\n",
       "  <thead>\n",
       "    <tr style=\"text-align: right;\">\n",
       "      <th></th>\n",
       "      <th>Name</th>\n",
       "      <th>Location</th>\n",
       "      <th>Year</th>\n",
       "      <th>Fuel_Type</th>\n",
       "      <th>Transmission</th>\n",
       "      <th>Owner_Type</th>\n",
       "      <th>Mileage</th>\n",
       "      <th>Seats</th>\n",
       "      <th>logprice</th>\n",
       "      <th>logEngine</th>\n",
       "      <th>logPower</th>\n",
       "      <th>logNew_Price</th>\n",
       "      <th>logKilometers_Driven</th>\n",
       "    </tr>\n",
       "  </thead>\n",
       "  <tbody>\n",
       "    <tr>\n",
       "      <th>2</th>\n",
       "      <td>Honda</td>\n",
       "      <td>Chennai</td>\n",
       "      <td>2011</td>\n",
       "      <td>Petrol</td>\n",
       "      <td>Manual</td>\n",
       "      <td>First</td>\n",
       "      <td>18.20</td>\n",
       "      <td>5.0</td>\n",
       "      <td>1.504077</td>\n",
       "      <td>7.089243</td>\n",
       "      <td>4.485260</td>\n",
       "      <td>2.152924</td>\n",
       "      <td>10.736397</td>\n",
       "    </tr>\n",
       "    <tr>\n",
       "      <th>7</th>\n",
       "      <td>Toyota</td>\n",
       "      <td>Mumbai</td>\n",
       "      <td>2016</td>\n",
       "      <td>Diesel</td>\n",
       "      <td>Automatic</td>\n",
       "      <td>First</td>\n",
       "      <td>11.36</td>\n",
       "      <td>8.0</td>\n",
       "      <td>2.862201</td>\n",
       "      <td>7.921173</td>\n",
       "      <td>5.144583</td>\n",
       "      <td>3.044522</td>\n",
       "      <td>10.491274</td>\n",
       "    </tr>\n",
       "    <tr>\n",
       "      <th>10</th>\n",
       "      <td>Maruti</td>\n",
       "      <td>Kochi</td>\n",
       "      <td>2018</td>\n",
       "      <td>Petrol</td>\n",
       "      <td>Manual</td>\n",
       "      <td>First</td>\n",
       "      <td>21.56</td>\n",
       "      <td>5.0</td>\n",
       "      <td>2.297573</td>\n",
       "      <td>7.287561</td>\n",
       "      <td>4.637153</td>\n",
       "      <td>2.365560</td>\n",
       "      <td>10.153935</td>\n",
       "    </tr>\n",
       "    <tr>\n",
       "      <th>15</th>\n",
       "      <td>Mitsubishi</td>\n",
       "      <td>Delhi</td>\n",
       "      <td>2014</td>\n",
       "      <td>Diesel</td>\n",
       "      <td>Manual</td>\n",
       "      <td>First</td>\n",
       "      <td>13.50</td>\n",
       "      <td>7.0</td>\n",
       "      <td>2.708050</td>\n",
       "      <td>7.814803</td>\n",
       "      <td>5.167981</td>\n",
       "      <td>3.466048</td>\n",
       "      <td>11.608236</td>\n",
       "    </tr>\n",
       "    <tr>\n",
       "      <th>20</th>\n",
       "      <td>BMW</td>\n",
       "      <td>Kochi</td>\n",
       "      <td>2014</td>\n",
       "      <td>Diesel</td>\n",
       "      <td>Automatic</td>\n",
       "      <td>First</td>\n",
       "      <td>22.69</td>\n",
       "      <td>5.0</td>\n",
       "      <td>2.920470</td>\n",
       "      <td>7.598399</td>\n",
       "      <td>5.247024</td>\n",
       "      <td>3.868489</td>\n",
       "      <td>10.403717</td>\n",
       "    </tr>\n",
       "  </tbody>\n",
       "</table>\n",
       "</div>"
      ],
      "text/plain": [
       "          Name Location  Year Fuel_Type Transmission Owner_Type  Mileage  \\\n",
       "2        Honda  Chennai  2011    Petrol       Manual      First    18.20   \n",
       "7       Toyota   Mumbai  2016    Diesel    Automatic      First    11.36   \n",
       "10      Maruti    Kochi  2018    Petrol       Manual      First    21.56   \n",
       "15  Mitsubishi    Delhi  2014    Diesel       Manual      First    13.50   \n",
       "20         BMW    Kochi  2014    Diesel    Automatic      First    22.69   \n",
       "\n",
       "    Seats  logprice  logEngine  logPower  logNew_Price  logKilometers_Driven  \n",
       "2     5.0  1.504077   7.089243  4.485260      2.152924             10.736397  \n",
       "7     8.0  2.862201   7.921173  5.144583      3.044522             10.491274  \n",
       "10    5.0  2.297573   7.287561  4.637153      2.365560             10.153935  \n",
       "15    7.0  2.708050   7.814803  5.167981      3.466048             11.608236  \n",
       "20    5.0  2.920470   7.598399  5.247024      3.868489             10.403717  "
      ]
     },
     "execution_count": 31,
     "metadata": {},
     "output_type": "execute_result"
    }
   ],
   "source": [
    "data_log.head()"
   ]
  },
  {
   "cell_type": "code",
   "execution_count": 32,
   "metadata": {},
   "outputs": [
    {
     "data": {
      "text/plain": [
       "array(['Honda', 'Toyota', 'Maruti', 'Mitsubishi', 'BMW', 'Volkswagen',\n",
       "       'Hyundai', 'Mercedes-Benz', 'Nissan', 'Tata', 'Datsun', 'Audi',\n",
       "       'Mahindra', 'Skoda', 'Mini', 'Jaguar', 'Jeep', 'Ford', 'Renault',\n",
       "       'Land', 'Volvo', 'Fiat', 'Isuzu', 'Porsche'], dtype=object)"
      ]
     },
     "execution_count": 32,
     "metadata": {},
     "output_type": "execute_result"
    }
   ],
   "source": [
    "data['Name'].unique()"
   ]
  },
  {
   "cell_type": "code",
   "execution_count": 33,
   "metadata": {},
   "outputs": [
    {
     "data": {
      "text/plain": [
       "array(['Chennai', 'Mumbai', 'Kochi', 'Delhi', 'Coimbatore', 'Bangalore',\n",
       "       'Pune', 'Ahmedabad', 'Kolkata', 'Hyderabad', 'Jaipur'],\n",
       "      dtype=object)"
      ]
     },
     "execution_count": 33,
     "metadata": {},
     "output_type": "execute_result"
    }
   ],
   "source": [
    "data['Location'].unique()"
   ]
  },
  {
   "cell_type": "code",
   "execution_count": 34,
   "metadata": {
    "scrolled": true
   },
   "outputs": [],
   "source": [
    "#더미 변환 (pd.get_dummies)\n",
    "\n",
    "data = pd.get_dummies(data, columns=['Name'])\n",
    "data = pd.get_dummies(data, columns=['Location'])\n",
    "data = pd.get_dummies(data, columns=['Fuel_Type'])\n",
    "data = pd.get_dummies(data, columns=['Transmission'])\n",
    "data = pd.get_dummies(data, columns=['Owner_Type'])"
   ]
  },
  {
   "cell_type": "code",
   "execution_count": 35,
   "metadata": {},
   "outputs": [
    {
     "name": "stdout",
     "output_type": "stream",
     "text": [
      "<class 'pandas.core.frame.DataFrame'>\n",
      "Int64Index: 823 entries, 2 to 6014\n",
      "Data columns (total 56 columns):\n",
      " #   Column                  Non-Null Count  Dtype  \n",
      "---  ------                  --------------  -----  \n",
      " 0   Year                    823 non-null    int64  \n",
      " 1   Kilometers_Driven       823 non-null    int64  \n",
      " 2   Mileage                 823 non-null    float64\n",
      " 3   Engine                  823 non-null    int64  \n",
      " 4   Power                   823 non-null    float64\n",
      " 5   Seats                   823 non-null    float64\n",
      " 6   New_Price               823 non-null    float64\n",
      " 7   Price                   823 non-null    float64\n",
      " 8   logprice                823 non-null    float64\n",
      " 9   logEngine               823 non-null    float64\n",
      " 10  logPower                823 non-null    float64\n",
      " 11  logNew_Price            823 non-null    float64\n",
      " 12  logKilometers_Driven    823 non-null    float64\n",
      " 13  Name_Audi               823 non-null    uint8  \n",
      " 14  Name_BMW                823 non-null    uint8  \n",
      " 15  Name_Datsun             823 non-null    uint8  \n",
      " 16  Name_Fiat               823 non-null    uint8  \n",
      " 17  Name_Ford               823 non-null    uint8  \n",
      " 18  Name_Honda              823 non-null    uint8  \n",
      " 19  Name_Hyundai            823 non-null    uint8  \n",
      " 20  Name_Isuzu              823 non-null    uint8  \n",
      " 21  Name_Jaguar             823 non-null    uint8  \n",
      " 22  Name_Jeep               823 non-null    uint8  \n",
      " 23  Name_Land               823 non-null    uint8  \n",
      " 24  Name_Mahindra           823 non-null    uint8  \n",
      " 25  Name_Maruti             823 non-null    uint8  \n",
      " 26  Name_Mercedes-Benz      823 non-null    uint8  \n",
      " 27  Name_Mini               823 non-null    uint8  \n",
      " 28  Name_Mitsubishi         823 non-null    uint8  \n",
      " 29  Name_Nissan             823 non-null    uint8  \n",
      " 30  Name_Porsche            823 non-null    uint8  \n",
      " 31  Name_Renault            823 non-null    uint8  \n",
      " 32  Name_Skoda              823 non-null    uint8  \n",
      " 33  Name_Tata               823 non-null    uint8  \n",
      " 34  Name_Toyota             823 non-null    uint8  \n",
      " 35  Name_Volkswagen         823 non-null    uint8  \n",
      " 36  Name_Volvo              823 non-null    uint8  \n",
      " 37  Location_Ahmedabad      823 non-null    uint8  \n",
      " 38  Location_Bangalore      823 non-null    uint8  \n",
      " 39  Location_Chennai        823 non-null    uint8  \n",
      " 40  Location_Coimbatore     823 non-null    uint8  \n",
      " 41  Location_Delhi          823 non-null    uint8  \n",
      " 42  Location_Hyderabad      823 non-null    uint8  \n",
      " 43  Location_Jaipur         823 non-null    uint8  \n",
      " 44  Location_Kochi          823 non-null    uint8  \n",
      " 45  Location_Kolkata        823 non-null    uint8  \n",
      " 46  Location_Mumbai         823 non-null    uint8  \n",
      " 47  Location_Pune           823 non-null    uint8  \n",
      " 48  Fuel_Type_CNG           823 non-null    uint8  \n",
      " 49  Fuel_Type_Diesel        823 non-null    uint8  \n",
      " 50  Fuel_Type_Petrol        823 non-null    uint8  \n",
      " 51  Transmission_Automatic  823 non-null    uint8  \n",
      " 52  Transmission_Manual     823 non-null    uint8  \n",
      " 53  Owner_Type_First        823 non-null    uint8  \n",
      " 54  Owner_Type_Second       823 non-null    uint8  \n",
      " 55  Owner_Type_Third        823 non-null    uint8  \n",
      "dtypes: float64(10), int64(3), uint8(43)\n",
      "memory usage: 124.6 KB\n"
     ]
    }
   ],
   "source": [
    "data.info()"
   ]
  },
  {
   "cell_type": "markdown",
   "metadata": {},
   "source": [
    "## 회귀모델 생성"
   ]
  },
  {
   "cell_type": "code",
   "execution_count": 36,
   "metadata": {},
   "outputs": [],
   "source": [
    "#test 데이터 생성\n",
    "from sklearn.model_selection import train_test_split\n",
    "\n",
    "train, test = train_test_split(data, test_size=0.2, random_state=10)"
   ]
  },
  {
   "cell_type": "code",
   "execution_count": 37,
   "metadata": {},
   "outputs": [],
   "source": [
    "train_y = train['Price']"
   ]
  },
  {
   "cell_type": "code",
   "execution_count": 38,
   "metadata": {},
   "outputs": [],
   "source": [
    "test_y = test['Price']"
   ]
  },
  {
   "cell_type": "code",
   "execution_count": 39,
   "metadata": {},
   "outputs": [],
   "source": [
    "train_x = train.drop(columns=['Price','logprice'])"
   ]
  },
  {
   "cell_type": "code",
   "execution_count": 40,
   "metadata": {},
   "outputs": [],
   "source": [
    "test_x = test.drop(columns=['Price','logprice'])"
   ]
  },
  {
   "cell_type": "code",
   "execution_count": 41,
   "metadata": {},
   "outputs": [
    {
     "name": "stdout",
     "output_type": "stream",
     "text": [
      "<class 'pandas.core.frame.DataFrame'>\n",
      "Int64Index: 658 entries, 714 to 1991\n",
      "Data columns (total 54 columns):\n",
      " #   Column                  Non-Null Count  Dtype  \n",
      "---  ------                  --------------  -----  \n",
      " 0   Year                    658 non-null    int64  \n",
      " 1   Kilometers_Driven       658 non-null    int64  \n",
      " 2   Mileage                 658 non-null    float64\n",
      " 3   Engine                  658 non-null    int64  \n",
      " 4   Power                   658 non-null    float64\n",
      " 5   Seats                   658 non-null    float64\n",
      " 6   New_Price               658 non-null    float64\n",
      " 7   logEngine               658 non-null    float64\n",
      " 8   logPower                658 non-null    float64\n",
      " 9   logNew_Price            658 non-null    float64\n",
      " 10  logKilometers_Driven    658 non-null    float64\n",
      " 11  Name_Audi               658 non-null    uint8  \n",
      " 12  Name_BMW                658 non-null    uint8  \n",
      " 13  Name_Datsun             658 non-null    uint8  \n",
      " 14  Name_Fiat               658 non-null    uint8  \n",
      " 15  Name_Ford               658 non-null    uint8  \n",
      " 16  Name_Honda              658 non-null    uint8  \n",
      " 17  Name_Hyundai            658 non-null    uint8  \n",
      " 18  Name_Isuzu              658 non-null    uint8  \n",
      " 19  Name_Jaguar             658 non-null    uint8  \n",
      " 20  Name_Jeep               658 non-null    uint8  \n",
      " 21  Name_Land               658 non-null    uint8  \n",
      " 22  Name_Mahindra           658 non-null    uint8  \n",
      " 23  Name_Maruti             658 non-null    uint8  \n",
      " 24  Name_Mercedes-Benz      658 non-null    uint8  \n",
      " 25  Name_Mini               658 non-null    uint8  \n",
      " 26  Name_Mitsubishi         658 non-null    uint8  \n",
      " 27  Name_Nissan             658 non-null    uint8  \n",
      " 28  Name_Porsche            658 non-null    uint8  \n",
      " 29  Name_Renault            658 non-null    uint8  \n",
      " 30  Name_Skoda              658 non-null    uint8  \n",
      " 31  Name_Tata               658 non-null    uint8  \n",
      " 32  Name_Toyota             658 non-null    uint8  \n",
      " 33  Name_Volkswagen         658 non-null    uint8  \n",
      " 34  Name_Volvo              658 non-null    uint8  \n",
      " 35  Location_Ahmedabad      658 non-null    uint8  \n",
      " 36  Location_Bangalore      658 non-null    uint8  \n",
      " 37  Location_Chennai        658 non-null    uint8  \n",
      " 38  Location_Coimbatore     658 non-null    uint8  \n",
      " 39  Location_Delhi          658 non-null    uint8  \n",
      " 40  Location_Hyderabad      658 non-null    uint8  \n",
      " 41  Location_Jaipur         658 non-null    uint8  \n",
      " 42  Location_Kochi          658 non-null    uint8  \n",
      " 43  Location_Kolkata        658 non-null    uint8  \n",
      " 44  Location_Mumbai         658 non-null    uint8  \n",
      " 45  Location_Pune           658 non-null    uint8  \n",
      " 46  Fuel_Type_CNG           658 non-null    uint8  \n",
      " 47  Fuel_Type_Diesel        658 non-null    uint8  \n",
      " 48  Fuel_Type_Petrol        658 non-null    uint8  \n",
      " 49  Transmission_Automatic  658 non-null    uint8  \n",
      " 50  Transmission_Manual     658 non-null    uint8  \n",
      " 51  Owner_Type_First        658 non-null    uint8  \n",
      " 52  Owner_Type_Second       658 non-null    uint8  \n",
      " 53  Owner_Type_Third        658 non-null    uint8  \n",
      "dtypes: float64(8), int64(3), uint8(43)\n",
      "memory usage: 89.3 KB\n"
     ]
    }
   ],
   "source": [
    "train_x.info()"
   ]
  },
  {
   "cell_type": "code",
   "execution_count": 42,
   "metadata": {},
   "outputs": [
    {
     "data": {
      "text/plain": [
       "714      8.50\n",
       "2178    41.60\n",
       "555      6.75\n",
       "69      10.50\n",
       "573      6.00\n",
       "        ...  \n",
       "2648     8.00\n",
       "2309    13.90\n",
       "3836    41.50\n",
       "919      8.65\n",
       "1991    17.02\n",
       "Name: Price, Length: 658, dtype: float64"
      ]
     },
     "execution_count": 42,
     "metadata": {},
     "output_type": "execute_result"
    }
   ],
   "source": [
    "train_y"
   ]
  },
  {
   "cell_type": "code",
   "execution_count": 43,
   "metadata": {},
   "outputs": [],
   "source": [
    "from sklearn.linear_model import LinearRegression\n",
    "\n",
    "model = LinearRegression()\n",
    "model.fit(train_x, train_y)\n",
    "\n",
    "pred = model.predict(train_x)"
   ]
  },
  {
   "cell_type": "code",
   "execution_count": 44,
   "metadata": {},
   "outputs": [],
   "source": [
    "pred_test = model.predict(test_x)"
   ]
  },
  {
   "cell_type": "code",
   "execution_count": 45,
   "metadata": {},
   "outputs": [],
   "source": [
    "from sklearn.metrics import mean_squared_error\n",
    "train_mse = mean_squared_error(train_y, pred)\n",
    "test_mse = mean_squared_error(test_y,pred_test)"
   ]
  },
  {
   "cell_type": "code",
   "execution_count": 46,
   "metadata": {},
   "outputs": [
    {
     "name": "stdout",
     "output_type": "stream",
     "text": [
      "train_mse :  30.366034829458 & test_mse :  15.777954593558846\n"
     ]
    }
   ],
   "source": [
    "print(\"train_mse : \",train_mse, \"& test_mse : \", test_mse)"
   ]
  },
  {
   "cell_type": "markdown",
   "metadata": {},
   "source": [
    "### 규제 포함 (ridge, lasso)"
   ]
  },
  {
   "cell_type": "markdown",
   "metadata": {},
   "source": [
    "1. lasso"
   ]
  },
  {
   "cell_type": "code",
   "execution_count": 47,
   "metadata": {},
   "outputs": [],
   "source": [
    "from sklearn.linear_model import Lasso\n",
    "\n",
    "lasso = Lasso(alpha = 0.01)\n",
    "lasso.fit(train_x, train_y)\n",
    "\n",
    "l_pred = lasso.predict(train_x)\n",
    "l_pred_test = lasso.predict(test_x)"
   ]
  },
  {
   "cell_type": "code",
   "execution_count": 48,
   "metadata": {},
   "outputs": [],
   "source": [
    "train_mse = mean_squared_error(train_y, l_pred)\n",
    "test_mse = mean_squared_error(test_y,l_pred_test)"
   ]
  },
  {
   "cell_type": "code",
   "execution_count": 49,
   "metadata": {
    "scrolled": true
   },
   "outputs": [
    {
     "name": "stdout",
     "output_type": "stream",
     "text": [
      "lasso_train_mse :  30.714076910279815 & lasso_test_mse :  15.467195918329002\n"
     ]
    }
   ],
   "source": [
    "print(\"lasso_train_mse : \",train_mse, \"& lasso_test_mse : \", test_mse)"
   ]
  },
  {
   "cell_type": "markdown",
   "metadata": {},
   "source": [
    "2. ridge\n"
   ]
  },
  {
   "cell_type": "code",
   "execution_count": 50,
   "metadata": {},
   "outputs": [],
   "source": [
    "from sklearn.linear_model import Ridge\n",
    "\n",
    "ridge = Ridge(alpha = 10)\n",
    "ridge.fit(train_x, train_y)\n",
    "\n",
    "r_pred = ridge.predict(train_x)\n",
    "r_pred_test = ridge.predict(test_x)"
   ]
  },
  {
   "cell_type": "code",
   "execution_count": 51,
   "metadata": {},
   "outputs": [],
   "source": [
    "train_mse = mean_squared_error(train_y, r_pred)\n",
    "test_mse = mean_squared_error(test_y,r_pred_test)"
   ]
  },
  {
   "cell_type": "code",
   "execution_count": 52,
   "metadata": {
    "scrolled": true
   },
   "outputs": [
    {
     "name": "stdout",
     "output_type": "stream",
     "text": [
      "ridge_train_mse :  37.289573557948025 & ridge_test_mse :  19.036981437270896\n"
     ]
    }
   ],
   "source": [
    "print(\"ridge_train_mse : \",train_mse, \"& ridge_test_mse : \", test_mse)"
   ]
  },
  {
   "cell_type": "markdown",
   "metadata": {},
   "source": [
    "규제를 실행했을 때, 성능이 크게 좋아질 줄 알았지만 lasso에서는 작은 차이로 성능 개선을 볼 수 있었고, ridge에서는 성능이 좋아졌다고 보기 어려웠다."
   ]
  }
 ],
 "metadata": {
  "colab": {
   "collapsed_sections": [],
   "name": "Regression_과제2",
   "provenance": []
  },
  "kernelspec": {
   "display_name": "Python 3",
   "language": "python",
   "name": "python3"
  },
  "language_info": {
   "codemirror_mode": {
    "name": "ipython",
    "version": 3
   },
   "file_extension": ".py",
   "mimetype": "text/x-python",
   "name": "python",
   "nbconvert_exporter": "python",
   "pygments_lexer": "ipython3",
   "version": "3.8.5"
  }
 },
 "nbformat": 4,
 "nbformat_minor": 1
}
